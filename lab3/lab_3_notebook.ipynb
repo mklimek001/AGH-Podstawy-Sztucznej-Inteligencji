{
  "cells": [
    {
      "cell_type": "markdown",
      "metadata": {
        "id": "FSffEUJZ2Diw"
      },
      "source": [
        "# Sieci neuronowe"
      ]
    },
    {
      "cell_type": "markdown",
      "metadata": {
        "id": "gDSX7k1D2Diy"
      },
      "source": [
        "## Wstęp\n",
        "\n",
        "Celem laboratorium jest zapoznanie się z podstawami sieci neuronowych oraz uczeniem głębokim (*deep learning*). Zapoznasz się na nim z następującymi tematami:\n",
        "- treningiem prostych sieci neuronowych, w szczególności z:\n",
        "  - regresją liniową w sieciach neuronowych\n",
        "  - optymalizacją funkcji kosztu\n",
        "  - algorytmem spadku wzdłuż gradientu\n",
        "  - siecią typu Multilayer Perceptron (MLP)\n",
        "- frameworkiem PyTorch, w szczególności z:\n",
        "  - ładowaniem danych\n",
        "  - preprocessingiem danych\n",
        "  - pisaniem pętli treningowej i walidacyjnej\n",
        "  - walidacją modeli\n",
        "- architekturą i hiperaprametrami sieci MLP, w szczególności z:\n",
        "  - warstwami gęstymi (w pełni połączonymi)\n",
        "  - funkcjami aktywacji\n",
        "  - regularyzacją: L2, dropout"
      ]
    },
    {
      "cell_type": "markdown",
      "metadata": {
        "id": "NuHCJXaA2Diz"
      },
      "source": [
        "## Wykorzystywane biblioteki\n",
        "\n",
        "Zaczniemy od pisania ręcznie prostych sieci w bibliotece Numpy, służącej do obliczeń numerycznych na CPU. Później przejdziemy do wykorzystywania frameworka PyTorch, służącego do obliczeń numerycznych na CPU, GPU oraz automatycznego różniczkowania, wykorzystywanego głównie do treningu sieci neuronowych.\n",
        "\n",
        "Wykorzystamy PyTorcha ze względu na popularność, łatwość instalacji i użycia, oraz dużą kontrolę nad niskopoziomowymi aspektami budowy i treningu sieci neuronowych. Framework ten został stworzony do zastosowań badawczych i naukowych, ale ze względu na wygodę użycia stał się bardzo popularny także w przemyśle. W szczególności całkowicie zdominował przetwarzanie języka naturalnego (NLP) oraz uczenie na grafach.\n",
        "\n",
        "Pierwszy duży framework do deep learningu, oraz obecnie najpopularniejszy, to TensorFlow, wraz z wysokopoziomową nakładką Keras. Są jednak szanse, że Google (autorzy) będzie go powoli porzucać na rzecz ich nowego frameworka JAX ([dyskusja](https://www.reddit.com/r/MachineLearning/comments/vfl57t/d_google_quietly_moving_its_products_from/), [artykuł Business Insidera](https://www.businessinsider.com/facebook-pytorch-beat-google-tensorflow-jax-meta-ai-2022-6?IR=T)), który jest bardzo świeżym, ale ciekawym narzędziem.\n",
        "\n",
        "Trzecia, ale znacznie mniej popularna od powyższych opcja to Apache MXNet."
      ]
    },
    {
      "cell_type": "markdown",
      "metadata": {
        "id": "x8eRSedg2Di0"
      },
      "source": [
        "## Konfiguracja własnego komputera\n",
        "\n",
        "Jeżeli korzystasz z własnego komputera, to musisz zainstalować trochę więcej bibliotek (Google Colab ma je już zainstalowane).\n",
        "\n",
        "Jeżeli nie masz GPU lub nie chcesz z niego korzystać, to wystarczy znaleźć odpowiednią komendę CPU [na stronie PyTorcha](https://pytorch.org/get-started/locally/). Dla Anacondy odpowiednia komenda została podana poniżej, dla pip'a znajdź ją na stronie.\n",
        "\n",
        "Jeżeli chcesz korzystać ze wsparcia GPU (na tym laboratorium nie będzie potrzebne, na kolejnych może przyspieszyć nieco obliczenia), to musi być to odpowiednio nowa karta NVidii, mająca CUDA compatibility ([lista](https://developer.nvidia.com/cuda-gpus)). Poza PyTorchem będzie potrzebne narzędzie NVidia CUDA w wersji 11.6 lub 11.7. Instalacja na Windowsie jest bardzo prosta (wystarczy ściągnąć plik EXE i zainstalować jak każdy inny program). Instalacja na Linuxie jest trudna i można względnie łatwo zepsuć sobie system, ale jeżeli chcesz spróbować, to [ten tutorial](https://www.youtube.com/results?search_query=nvidia+cuda+install+ubuntu+20.04) jest bardzo dobry."
      ]
    },
    {
      "cell_type": "code",
      "execution_count": null,
      "metadata": {
        "id": "ov3R17vs2Di0"
      },
      "outputs": [],
      "source": [
        "# for conda users\n",
        "# !conda install -y matplotlib pandas pytorch torchvision torchaudio -c pytorch -c conda-forge"
      ]
    },
    {
      "cell_type": "markdown",
      "metadata": {
        "id": "Othm3C2lLAsj"
      },
      "source": [
        "## Wprowadzenie\n",
        "\n",
        "Zanim zaczniemy naszą przygodę z sieciami neuronowymi, przyjrzyjmy się prostemu przykładowi regresji liniowej na syntetycznych danych:"
      ]
    },
    {
      "cell_type": "code",
      "execution_count": null,
      "metadata": {
        "id": "rnJsfxbnLAsj"
      },
      "outputs": [],
      "source": [
        "from typing import Tuple, Dict\n",
        "\n",
        "import numpy as np\n",
        "import matplotlib.pyplot as plt"
      ]
    },
    {
      "cell_type": "code",
      "execution_count": null,
      "metadata": {
        "colab": {
          "base_uri": "https://localhost:8080/",
          "height": 283
        },
        "id": "EaYpEXzBLAsl",
        "outputId": "ef898233-93f5-4d47-d75a-ed1ed86f3499"
      },
      "outputs": [
        {
          "output_type": "execute_result",
          "data": {
            "text/plain": [
              "<matplotlib.collections.PathCollection at 0x7f09b502f6a0>"
            ]
          },
          "metadata": {},
          "execution_count": 3
        },
        {
          "output_type": "display_data",
          "data": {
            "text/plain": [
              "<Figure size 432x288 with 1 Axes>"
            ],
            "image/png": "[encoded data removed]"
          },
          "metadata": {
            "needs_background": "light"
          }
        }
      ],
      "source": [
        "np.random.seed(0)\n",
        "\n",
        "x = np.linspace(0, 1, 100)\n",
        "y = x + np.random.normal(scale=0.1, size=x.shape)\n",
        "\n",
        "plt.scatter(x, y)"
      ]
    },
    {
      "cell_type": "markdown",
      "metadata": {
        "id": "PEM_-yKELAsl"
      },
      "source": [
        "W przeciwieństwie do laboratorium 1, tym razem będziemy chcieli rozwiązać ten problem własnoręcznie, bez użycia wysokopoziomowego interfejsu Scikit-learn'a. W tym celu musimy sobie przypomnieć sformułowanie naszego **problemu optymalizacyjnego (optimization problem)**.\n",
        "\n",
        "W przypadku prostej regresji liniowej (1 zmienna) mamy model postaci $\\hat{y} = \\alpha x + \\beta$, z dwoma parametrami, których będziemy się uczyć. Miarą niedopasowania modelu o danych parametrach jest **funkcja kosztu (cost function)**, nazywana też funkcją celu. Najczęściej używa się **błędu średniokwadratowego (mean squared error, MSE)**:\n",
        "$$\\large\n",
        "MSE = \\frac{1}{N} \\sum_{i}^{N} (y - \\hat{y})^2\n",
        "$$\n",
        "\n",
        "Od jakich $\\alpha$ i $\\beta$ zacząć? W najprostszym wypadku wystarczy po prostu je wylosować jako niewielkie liczby zmiennoprzecinkowe.\n",
        "\n",
        "#### Zadanie 1 (0.5 punkt)\n",
        "\n",
        "Uzupełnij kod funkcji `mse`, obliczającej błąd średniokwadratowy. Wykorzystaj Numpy'a w celu wektoryzacji obliczeń dla wydajności."
      ]
    },
    {
      "cell_type": "code",
      "execution_count": null,
      "metadata": {
        "id": "RaA7Q46TLAsm"
      },
      "outputs": [],
      "source": [
        "def mse(y: np.ndarray, y_hat: np.ndarray) -> float:\n",
        "    n = len(y)\n",
        "    sqrt_diff = 0\n",
        "    for i in range(n):\n",
        "       sqrt_diff += pow((y[i] - y_hat[i]), 2)\n",
        "    \n",
        "    return sqrt_diff/n"
      ]
    },
    {
      "cell_type": "code",
      "execution_count": null,
      "metadata": {
        "colab": {
          "base_uri": "https://localhost:8080/",
          "height": 301
        },
        "id": "qSGfamGbLAsm",
        "outputId": "021ac53f-b1ba-498b-b82b-55d78bba87d4"
      },
      "outputs": [
        {
          "output_type": "stream",
          "name": "stdout",
          "text": [
            "MSE: 0.133\n"
          ]
        },
        {
          "output_type": "execute_result",
          "data": {
            "text/plain": [
              "[<matplotlib.lines.Line2D at 0x7f09b4af0c70>]"
            ]
          },
          "metadata": {},
          "execution_count": 5
        },
        {
          "output_type": "display_data",
          "data": {
            "text/plain": [
              "<Figure size 432x288 with 1 Axes>"
            ],
            "image/png": "[encoded data removed]"
          },
          "metadata": {
            "needs_background": "light"
          }
        }
      ],
      "source": [
        "a = np.random.rand()\n",
        "b = np.random.rand()\n",
        "print(f\"MSE: {mse(y, a * x + b):.3f}\")\n",
        "\n",
        "plt.scatter(x, y)\n",
        "plt.plot(x, a * x + b, color=\"g\", linewidth=4)"
      ]
    },
    {
      "cell_type": "markdown",
      "metadata": {
        "id": "Y--E9Mp9LAsn"
      },
      "source": [
        "Losowe parametry radzą sobie nie najlepiej. Jak lepiej dopasować naszą prostą do danych? Zawsze możemy starać się wyprowadzić rozwiązanie analitycznie, i w tym wypadku nawet nam się uda. Jest to jednak szczególny i dość rzadki przypadek, a w szczególności nie będzie to możliwe w większych sieciach neuronowych.\n",
        "\n",
        "Potrzebna nam będzie **metoda optymalizacji (optimization method)**, dającą wartości parametrów minimalizujące dowolną różniczkowalną funkcję kosztu. Zdecydowanie najpopularniejszy jest tutaj **spadek wzdłuż gradientu (gradient descent)**.\n",
        "\n",
        "Metoda ta wywodzi się z prostych obserwacji, które tutaj przedstawimy. Bardziej szczegółowe rozwinięcie dla zainteresowanych: [sekcja 4.3 \"Deep Learning Book\"](https://www.deeplearningbook.org/contents/numerical.html), [ten praktyczny kurs](https://cs231n.github.io/optimization-1/), [analiza oryginalnej publikacji Cauchy'ego](https://www.math.uni-bielefeld.de/documenta/vol-ismp/40_lemarechal-claude.pdf) (oryginał w języku francuskim).\n",
        "\n",
        "Pochodna jest dokładnie równa granicy funkcji. Dla małego $\\epsilon$ można ją przybliżyć jako:\n",
        "$$\\large\n",
        "\\frac{f(x)}{dx} \\approx \\frac{f(x) - f(x+\\epsilon)}{\\epsilon}\n",
        "$$\n",
        "\n",
        "Przyglądając się temu równaniu widzimy, że: \n",
        "* dla funkcji rosnącej ($f(x+\\epsilon) > f(x)$) wyrażenie $\\frac{f(x)}{dx}$ będzie miało znak ujemny \n",
        "* dla funkcji malejącej ($f(x+\\epsilon) < f(x)$) wyrażenie $\\frac{f(x)}{dx}$ będzie miało znak dodatni \n",
        "\n",
        "Widzimy więc, że potrafimy wskazać kierunek zmniejszenia wartości funkcji, patrząc na znak pochodnej. Zaobserwowano także, że amplituda wartości w $\\frac{f(x)}{dx}$ jest tym większa, im dalej jesteśmy od minimum (maximum). Pochodna wyznacza więc, w jakim kierunku funkcja najszybciej rośnie, więc kierunek o przeciwnym zwrocie to kierunek, w którym funkcja najszybciej spada.\n",
        "\n",
        "Stosując powyższe do optymalizacji, mamy:\n",
        "$$\\large\n",
        "x_{t+1} = x_{t} -  \\alpha * \\frac{f(x)}{dx}\n",
        "$$\n",
        "\n",
        "$\\alpha$ to niewielka wartość (rzędu zwykle $10^{-5}$ - $10^{-2}$), wprowadzona, aby trzymać się założenia o małej zmianie parametrów ($\\epsilon$). Nazywa się ją **stałą uczącą (learning rate)** i jest zwykle najważniejszym hiperparametrem podczas nauki sieci.\n",
        "\n",
        "Metoda ta zakłada, że używamy całego zbioru danych do aktualizacji parametrów w każdym kroku, co nazywa się po prostu GD (od *gradient descent*) albo *full batch GD*. Wtedy każdy krok optymalizacji nazywa się **epoką (epoch)**.\n",
        "\n",
        "Im większa stała ucząca, tym większe nasze kroki podczas minimalizacji. Możemy więc uczyć szybciej, ale istnieje ryzyko, że będziemy \"przeskakiwać\" minima. Mniejsza stała ucząca to wolniejszy trening, ale dokładniejszy. Można także zmieniać ją podczas treningu, co nazywa się **learning rate scheduling (LR scheduling)**. Obrazowo:\n",
        "\n",
        "![learning_rate](http://www.bdhammel.com/assets/learning-rate/lr-types.png)"
      ]
    },
    {
      "cell_type": "markdown",
      "metadata": {
        "id": "496qEjkVLAso"
      },
      "source": [
        "![interactive LR](http://cdn-images-1.medium.com/max/640/1*eeIvlwkMNG1wSmj3FR6M2g.gif)"
      ]
    },
    {
      "cell_type": "markdown",
      "metadata": {
        "id": "RYkyAHKzLAsp"
      },
      "source": [
        "Policzmy więc pochodną dla naszej funkcji kosztu MSE. Pochodną liczymy po predykcjach naszego modelu, czyli de facto po jego parametrach, bo to od nich zależą predykcje.\n",
        "$$\\large\n",
        "\\frac{\\text{d} MSE}{\\text{d} \\hat{y}} = -2 \\cdot \\frac{1}{N} \\sum_{i=1}^{N} (y_i - \\hat{y}_i) = -2 \\cdot \\frac{1}{N} \\sum_{i=1}^{N} (y_i - (ax + b))\n",
        "$$\n",
        "\n",
        "Musimy jeszcze się dowiedzieć, jak zaktualizować każdy z naszych parametrów. Możemy wykorzystać tutaj regułę łańcuchową (*chain rule*) i policzyć ponownie pochodną, tylko że po naszych parametrach. Dzięki temu dostajemy informację, jak każdy z parametrów wpływa na funkcję kosztu i jak zmodyfikować każdy z nich w kolejnym kroku.\n",
        "$$\\large\n",
        "\\frac{\\text{d} \\hat{y}}{\\text{d} a} = x\n",
        "$$\n",
        "\n",
        "$$\\large\n",
        "\\frac{\\text{d} \\hat{y}}{\\text{d} b} = 1\n",
        "$$\n",
        "\n",
        "Pełna aktualizacja to zatem:\n",
        "$$\\large\n",
        "a' = a + \\alpha * \\left( \\frac{-2}{N} \\sum_{i=1}^N (y_i - \\hat{y}_i) * (-x) \\right)\n",
        "$$\n",
        "$$\\large\n",
        "b' = b + \\alpha * \\left( \\frac{-2}{N} \\sum_{i=1}^N (y_i - \\hat{y}_i) * (-1) \\right)\n",
        "$$\n",
        "\n",
        "Liczymy więc pochodną funkcji kosztu, a potem za pomocą reguły łańcuchowej \"cofamy się\", dochodząc do tego, jak każdy z parametrów wpływa na błąd i w jaki sposób powinniśmy go zmienić. Nazywa się to **propagacją wsteczną (backpropagation)** i jest podstawowym mechanizmem umożliwiającym naukę sieci neuronowych za pomocą spadku wzdłuż gradientu. Więcej możesz o tym przeczytać [tutaj](https://cs231n.github.io/optimization-2/).\n",
        "\n",
        "Obliczenie pochodnych cząstkowych ze względu na każdy \n",
        "\n",
        "\n",
        "#### Zadanie 2 (1.5 punkty)\n",
        "\n",
        "Zaimplementuj funkcję realizującą jedną epokę treningową. Oblicz predykcję przy aktualnych parametrach oraz zaktualizuj je zgodnie z powyższymi wzorami."
      ]
    },
    {
      "cell_type": "code",
      "source": [
        "def a_errors_with_param(x: np.ndarray, y: np.ndarray, a: float, b: float):\n",
        "    n = len(y)\n",
        "    y_hat = a * x + b\n",
        "    errors = y - y_hat\n",
        "    errors_sum = 0\n",
        "\n",
        "    for i in range(n):\n",
        "      errors_sum += errors[i] * (-x[i])\n",
        "    \n",
        "    return errors_sum\n"
      ],
      "metadata": {
        "id": "goGF9BVL9Bee"
      },
      "execution_count": null,
      "outputs": []
    },
    {
      "cell_type": "code",
      "source": [
        "def b_errors_with_param(y: np.ndarray, a: float, b: float):\n",
        "    n = len(y)\n",
        "    y_hat = a * x + b\n",
        "    errors = y - y_hat\n",
        "    errors_sum = 0\n",
        "\n",
        "    for i in range(n):\n",
        "      errors_sum += errors[i] * (-1)\n",
        "    \n",
        "    return errors_sum\n"
      ],
      "metadata": {
        "id": "VGZsDYIx92Bm"
      },
      "execution_count": null,
      "outputs": []
    },
    {
      "cell_type": "code",
      "execution_count": null,
      "metadata": {
        "id": "4qbdWOSULAsp"
      },
      "outputs": [],
      "source": [
        "def optimize(x: np.ndarray, y: np.ndarray, a: float, b: float, learning_rate: float = 0.1):\n",
        "    n = len(y)\n",
        "    y_hat = a * x + b\n",
        "    errors = y - y_hat\n",
        "\n",
        "    new_a = a + learning_rate * a_errors_with_param(x, y, a, b) * -2 / n\n",
        "    new_b = b + learning_rate * b_errors_with_param(y, a, b) * -2 / n\n",
        "\n",
        "    return new_a, new_b"
      ]
    },
    {
      "cell_type": "code",
      "execution_count": null,
      "metadata": {
        "colab": {
          "base_uri": "https://localhost:8080/"
        },
        "id": "t2Vo92hn2Di5",
        "outputId": "36dfe3ad-8f53-42ae-9a3d-42a7a8a15adc"
      },
      "outputs": [
        {
          "output_type": "stream",
          "name": "stdout",
          "text": [
            "step 0 loss:  0.1330225119404028\n",
            "step 100 loss:  0.012673197778527677\n",
            "step 200 loss:  0.010257153540857815\n",
            "step 300 loss:  0.0100948037549359\n",
            "step 400 loss:  0.01008389441288912\n",
            "step 500 loss:  0.01008316134297333\n",
            "step 600 loss:  0.010083112083219707\n",
            "step 700 loss:  0.010083108773135268\n",
            "step 800 loss:  0.01008310855070908\n",
            "step 900 loss:  0.010083108535762813\n",
            "final loss: 0.01008310853476045\n"
          ]
        }
      ],
      "source": [
        "for i in range(1000):\n",
        "    loss = mse(y, a * x + b)\n",
        "    a, b = optimize(x, y, a, b)\n",
        "    if i % 100 == 0:\n",
        "        print(f\"step {i} loss: \", loss)\n",
        "\n",
        "print(\"final loss:\", loss)"
      ]
    },
    {
      "cell_type": "code",
      "execution_count": null,
      "metadata": {
        "colab": {
          "base_uri": "https://localhost:8080/",
          "height": 283
        },
        "id": "xOgRcPC1LAsq",
        "outputId": "e068b2e1-afc8-47b0-8e08-39ea75611b82",
        "scrolled": false
      },
      "outputs": [
        {
          "output_type": "execute_result",
          "data": {
            "text/plain": [
              "[<matplotlib.lines.Line2D at 0x7f09b4ada9a0>]"
            ]
          },
          "metadata": {},
          "execution_count": 10
        },
        {
          "output_type": "display_data",
          "data": {
            "text/plain": [
              "<Figure size 432x288 with 1 Axes>"
            ],
            "image/png": "[encoded data removed]"
          },
          "metadata": {
            "needs_background": "light"
          }
        }
      ],
      "source": [
        "plt.scatter(x, y)\n",
        "plt.plot(x, a * x + b, color=\"g\", linewidth=4)"
      ]
    },
    {
      "cell_type": "markdown",
      "metadata": {
        "id": "vOr2fWYpLAsq"
      },
      "source": [
        "Udało ci się wytrenować swoją pierwszą sieć neuronową. Czemu? Otóż neuron to po prostu wektor parametrów, a zwykle robimy iloczyn skalarny tych parametrów z wejściem. Dodatkowo na wyjście nakłada się **funkcję aktywacji (activation function)**, która przekształca wyjście. Tutaj takiej nie było, a właściwie była to po prostu funkcja identyczności.\n",
        "\n",
        "Oczywiście w praktyce korzystamy z odpowiedniego frameworka, który w szczególności:\n",
        "- ułatwia budowanie sieci, np. ma gotowe klasy dla warstw neuronów\n",
        "- ma zaimplementowane funkcje kosztu oraz ich pochodne\n",
        "- sam różniczkuje ze względu na odpowiednie parametry i aktualizuje je odpowiednio podczas treningu\n"
      ]
    },
    {
      "cell_type": "markdown",
      "metadata": {
        "id": "NJBYJabuLAsr"
      },
      "source": [
        "## Wprowadzenie do PyTorcha"
      ]
    },
    {
      "cell_type": "markdown",
      "metadata": {
        "id": "EB-99XqhLAsr"
      },
      "source": [
        "PyTorch to w gruncie rzeczy narzędzie do algebry liniowej z [automatycznym rożniczkowaniem](https://pytorch.org/tutorials/beginner/blitz/autograd_tutorial.html), z możliwością przyspieszenia obliczeń z pomocą GPU. Na tych fundamentach zbudowany jest pełny framework do uczenia głębokiego. Można spotkać się ze stwierdzenie, że PyTorch to NumPy + GPU + opcjonalne różniczkowanie, co jest całkiem celne. Plus można łatwo debugować printem :)\n",
        "\n",
        "PyTorch używa dynamicznego grafu obliczeń, który sami definiujemy w kodzie. Takie podejście jest bardzo wygodne, elastyczne i pozwala na łatwe eksperymentowanie. Odbywa się to potencjalnie kosztem wydajności, ponieważ pozostawia kwestię optymalizacji programiście. Więcej na ten temat dla zainteresowanych na końcu laboratorium.\n",
        "\n",
        "Samo API PyTorcha bardzo przypomina Numpy'a, a podstawowym obiektem jest `Tensor`, klasa reprezentująca tensory dowolnego wymiaru. Dodatkowo niektóre tensory będą miały automatycznie obliczony gradient. Co ważne, tensor jest na pewnym urządzeniu, CPU lub GPU, a przenosić między nimi trzeba explicite.\n",
        "\n",
        "Najważniejsze moduły:\n",
        "- `torch` - podstawowe klasy oraz funkcje, np. `Tensor`, `from_numpy()`\n",
        "- `torch.nn` - klasy związane z sieciami neuronowymi, np. `Linear`, `Sigmoid`\n",
        "- `torch.optim` - wszystko związane z optymalizacją, głównie spadkiem wzdłuż gradientu"
      ]
    },
    {
      "cell_type": "code",
      "execution_count": null,
      "metadata": {
        "id": "FwuIt8S-LAss"
      },
      "outputs": [],
      "source": [
        "import torch\n",
        "import torch.nn as nn\n",
        "import torch.optim as optim"
      ]
    },
    {
      "cell_type": "code",
      "execution_count": null,
      "metadata": {
        "colab": {
          "base_uri": "https://localhost:8080/"
        },
        "id": "bfCiUFXULAss",
        "outputId": "be5f5e5e-cafb-42d3-dc2c-d6a287a6fbfb"
      },
      "outputs": [
        {
          "output_type": "stream",
          "name": "stdout",
          "text": [
            "tensor([1., 1., 1., 1., 1., 1., 1., 1., 1., 1.])\n",
            "tensor([0.6299, 0.2161, 0.4856, 0.7065, 0.5451, 0.2250, 0.9053, 0.6647, 0.4611,\n",
            "        0.6922])\n",
            "tensor([1.6299, 1.2161, 1.4856, 1.7065, 1.5451, 1.2250, 1.9053, 1.6647, 1.4611,\n",
            "        1.6922])\n",
            "tensor([0.6299, 0.2161, 0.4856, 0.7065, 0.5451, 0.2250, 0.9053, 0.6647, 0.4611,\n",
            "        0.6922])\n",
            "tensor(5.5316)\n"
          ]
        }
      ],
      "source": [
        "ones = torch.ones(10)\n",
        "noise = torch.ones(10) * torch.rand(10)\n",
        "print(ones)\n",
        "print(noise)\n",
        "\n",
        "# elementwise sum\n",
        "print(ones + noise)\n",
        "\n",
        "# elementwise multiplication\n",
        "print(ones * noise)\n",
        "\n",
        "# dot product\n",
        "print(ones @ noise)"
      ]
    },
    {
      "cell_type": "code",
      "execution_count": null,
      "metadata": {
        "id": "ynNd_kD0LAst"
      },
      "outputs": [],
      "source": [
        "# beware - shares memory with original Numpy array!\n",
        "# very fast, but modifications are visible to original variable\n",
        "x = torch.from_numpy(x)\n",
        "y = torch.from_numpy(y)"
      ]
    },
    {
      "cell_type": "markdown",
      "metadata": {
        "id": "W9kkxczELAsu"
      },
      "source": [
        "Jeżeli dla stworzonych przez nas tensorów chcemy śledzić operacje i obliczać gradient, to musimy oznaczyć `requires_grad=True`."
      ]
    },
    {
      "cell_type": "code",
      "execution_count": null,
      "metadata": {
        "colab": {
          "base_uri": "https://localhost:8080/"
        },
        "id": "8HtZL-KfLAsu",
        "outputId": "6b06dec9-1351-4933-a94e-243465f9c580"
      },
      "outputs": [
        {
          "output_type": "execute_result",
          "data": {
            "text/plain": [
              "(tensor([0.3295], requires_grad=True), tensor([0.3474], requires_grad=True))"
            ]
          },
          "metadata": {},
          "execution_count": 14
        }
      ],
      "source": [
        "a = torch.rand(1, requires_grad=True)\n",
        "b = torch.rand(1, requires_grad=True)\n",
        "a, b"
      ]
    },
    {
      "cell_type": "markdown",
      "metadata": {
        "id": "Nl1guWZ_LAsv"
      },
      "source": [
        "PyTorch zawiera większość powszechnie używanych funkcji kosztu, np. MSE. Mogą być one używane na 2 sposoby, z czego pierwszy jest popularniejszy:\n",
        "- jako klasy wywoływalne z modułu `torch.nn`\n",
        "- jako funkcje z modułu `torch.nn.functional`\n",
        "\n",
        "Po wykonaniu poniższego kodu widzimy, że zwraca on nam tensor z dodatkowymi atrybutami. Co ważne, jest to skalar (0-wymiarowy tensor), bo potrzebujemy zwyczajnej liczby do obliczania propagacji wstecznych (pochodnych czątkowych)."
      ]
    },
    {
      "cell_type": "code",
      "execution_count": null,
      "metadata": {
        "colab": {
          "base_uri": "https://localhost:8080/"
        },
        "id": "iq4PMAqR2Di7",
        "outputId": "ad41de0d-3f9d-49f1-c1fc-78742cb23608"
      },
      "outputs": [
        {
          "output_type": "execute_result",
          "data": {
            "text/plain": [
              "tensor(0.0450, dtype=torch.float64, grad_fn=<MseLossBackward0>)"
            ]
          },
          "metadata": {},
          "execution_count": 15
        }
      ],
      "source": [
        "mse = nn.MSELoss()\n",
        "mse(y, a * x + b)"
      ]
    },
    {
      "cell_type": "markdown",
      "metadata": {
        "id": "vS35r49nLAsw"
      },
      "source": [
        "Atrybutu `grad_fn` nie używamy wprost, bo korzysta z niego w środku PyTorch, ale widać, że tensor jest \"świadomy\", że liczy się na nim pochodną. Możemy natomiast skorzystać z atrybutu `grad`, który zawiera faktyczny gradient. Zanim go jednak dostaniemy, to trzeba powiedzieć PyTorchowi, żeby policzył gradient. Służy do tego metoda `.backward()`, wywoływana na obiekcie zwracanym przez funkcję kosztu."
      ]
    },
    {
      "cell_type": "code",
      "execution_count": null,
      "metadata": {
        "id": "Qb7l6Xg1LAsx"
      },
      "outputs": [],
      "source": [
        "loss = mse(y, a * x + b)\n",
        "loss.backward()"
      ]
    },
    {
      "cell_type": "code",
      "execution_count": null,
      "metadata": {
        "colab": {
          "base_uri": "https://localhost:8080/"
        },
        "id": "6LfQbLVoLAsx",
        "outputId": "7c92e45c-1c92-474d-9253-2a4b66e321fc"
      },
      "outputs": [
        {
          "output_type": "stream",
          "name": "stdout",
          "text": [
            "tensor([-0.1028])\n"
          ]
        }
      ],
      "source": [
        "print(a.grad)"
      ]
    },
    {
      "cell_type": "markdown",
      "metadata": {
        "id": "Kdf1iweELAsy"
      },
      "source": [
        "Ważne jest, że PyTorch nie liczy za każdym razem nowego gradientu, tylko dodaje go do istniejącego, czyli go akumuluje. Jest to przydatne w niektórych sieciach neuronowych, ale zazwyczaj trzeba go zerować. Jeżeli tego nie zrobimy, to dostaniemy coraz większe gradienty.\n",
        "\n",
        "Do zerowania służy metoda `.zero_()`. W PyTorchu wszystkie metody modyfikujące tensor w miejscu mają `_` na końcu nazwy. Jest to dość niskopoziomowa operacja dla pojedynczych tensorów - zobaczymy za chwilę, jak to robić łatwiej dla całej sieci."
      ]
    },
    {
      "cell_type": "code",
      "execution_count": null,
      "metadata": {
        "colab": {
          "base_uri": "https://localhost:8080/"
        },
        "id": "DiCQZKJsLAsy",
        "outputId": "876fb20a-6435-4b90-cb2a-93b128ca7163"
      },
      "outputs": [
        {
          "output_type": "execute_result",
          "data": {
            "text/plain": [
              "tensor([-0.2056])"
            ]
          },
          "metadata": {},
          "execution_count": 18
        }
      ],
      "source": [
        "loss = mse(y, a * x + b)\n",
        "loss.backward()\n",
        "a.grad"
      ]
    },
    {
      "cell_type": "markdown",
      "metadata": {
        "id": "xNC3Ag8uLAsz"
      },
      "source": [
        "Zobaczmy, jak wyglądałaby regresja liniowa, ale napisana w PyTorchu. Jest to oczywiście bardzo niskopoziomowa implementacja - za chwilę zobaczymy, jak to wygląda w praktyce."
      ]
    },
    {
      "cell_type": "code",
      "execution_count": null,
      "metadata": {
        "colab": {
          "base_uri": "https://localhost:8080/"
        },
        "id": "AKnxyeboLAsz",
        "outputId": "3e292c5f-d4e7-4d6a-f804-47b8d231e1b6"
      },
      "outputs": [
        {
          "output_type": "stream",
          "name": "stdout",
          "text": [
            "step 0 loss:  tensor(0.0450, dtype=torch.float64, grad_fn=<MseLossBackward0>)\n",
            "step 100 loss:  tensor(0.0123, dtype=torch.float64, grad_fn=<MseLossBackward0>)\n",
            "step 200 loss:  tensor(0.0102, dtype=torch.float64, grad_fn=<MseLossBackward0>)\n",
            "step 300 loss:  tensor(0.0101, dtype=torch.float64, grad_fn=<MseLossBackward0>)\n",
            "step 400 loss:  tensor(0.0101, dtype=torch.float64, grad_fn=<MseLossBackward0>)\n",
            "step 500 loss:  tensor(0.0101, dtype=torch.float64, grad_fn=<MseLossBackward0>)\n",
            "step 600 loss:  tensor(0.0101, dtype=torch.float64, grad_fn=<MseLossBackward0>)\n",
            "step 700 loss:  tensor(0.0101, dtype=torch.float64, grad_fn=<MseLossBackward0>)\n",
            "step 800 loss:  tensor(0.0101, dtype=torch.float64, grad_fn=<MseLossBackward0>)\n",
            "step 900 loss:  tensor(0.0101, dtype=torch.float64, grad_fn=<MseLossBackward0>)\n",
            "final loss: tensor(0.0101, dtype=torch.float64, grad_fn=<MseLossBackward0>)\n"
          ]
        }
      ],
      "source": [
        "learning_rate = 0.1\n",
        "for i in range(1000):\n",
        "    loss = mse(y, a * x + b)\n",
        "\n",
        "    # compute gradients\n",
        "    loss.backward()\n",
        "\n",
        "    # update parameters\n",
        "    a.data -= learning_rate * a.grad\n",
        "    b.data -= learning_rate * b.grad\n",
        "\n",
        "    # zero gradients\n",
        "    a.grad.data.zero_()\n",
        "    b.grad.data.zero_()\n",
        "\n",
        "    if i % 100 == 0:\n",
        "        print(f\"step {i} loss: \", loss)\n",
        "\n",
        "print(\"final loss:\", loss)"
      ]
    },
    {
      "cell_type": "markdown",
      "metadata": {
        "id": "2DXNVhshmmI-"
      },
      "source": [
        "Trening modeli w PyTorchu jest dosyć schematyczny i najczęściej rozdziela się go na kilka bloków, dających razem **pętlę uczącą (training loop)**, powtarzaną w każdej epoce:\n",
        "1. Forward pass - obliczenie predykcji sieci\n",
        "2. Loss calculation\n",
        "3. Backpropagation - obliczenie pochodnych oraz zerowanie gradientów\n",
        "4. Optimalization - aktualizacja wag\n",
        "5. Other - ewaluacja na zbiorze walidacyjnym, logging etc."
      ]
    },
    {
      "cell_type": "code",
      "execution_count": null,
      "metadata": {
        "colab": {
          "base_uri": "https://localhost:8080/"
        },
        "id": "2etpw7TNLAs0",
        "outputId": "22b6857e-f509-4a24-f567-216afa1cd945",
        "scrolled": true
      },
      "outputs": [
        {
          "output_type": "stream",
          "name": "stdout",
          "text": [
            "step 0 loss: 0.0582\n",
            "step 100 loss: 0.0102\n",
            "step 200 loss: 0.0101\n",
            "step 300 loss: 0.0101\n",
            "step 400 loss: 0.0101\n",
            "step 500 loss: 0.0101\n",
            "step 600 loss: 0.0101\n",
            "step 700 loss: 0.0101\n",
            "step 800 loss: 0.0101\n",
            "step 900 loss: 0.0101\n",
            "final loss: tensor(0.0101, dtype=torch.float64, grad_fn=<MseLossBackward0>)\n"
          ]
        }
      ],
      "source": [
        "# initialization\n",
        "learning_rate = 0.1\n",
        "a = torch.rand(1, requires_grad=True)\n",
        "b = torch.rand(1, requires_grad=True)\n",
        "optimizer = torch.optim.SGD([a, b], lr=learning_rate)\n",
        "best_loss = float(\"inf\")\n",
        "\n",
        "# training loop in each epoch\n",
        "for i in range(1000):\n",
        "    # forward pass\n",
        "    y_hat = a * x + b\n",
        "\n",
        "    # loss calculation\n",
        "    loss = mse(y, y_hat)\n",
        "\n",
        "    # backpropagation\n",
        "    loss.backward()\n",
        "\n",
        "    # optimization\n",
        "    optimizer.step()\n",
        "    optimizer.zero_grad()  # zeroes all gradients - very convenient!\n",
        "\n",
        "    if i % 100 == 0:\n",
        "        if loss < best_loss:\n",
        "            best_model = (a.clone(), b.clone())\n",
        "            best_loss = loss\n",
        "        print(f\"step {i} loss: {loss.item():.4f}\")\n",
        "\n",
        "print(\"final loss:\", loss)"
      ]
    },
    {
      "cell_type": "markdown",
      "metadata": {
        "id": "9CJ0jhcm2Di-"
      },
      "source": [
        "Przejdziemy teraz do budowy sieci neuronowej do klasyfikacji. Typowo implementuje się ją po prostu jako sieć dla regresji, ale zwracającą tyle wyników, ile mamy klas, a potem aplikuje się na tym funkcję sigmoidalną (2 klasy) lub softmax (>2 klasy). W przypadku klasyfikacji binarnej zwraca się czasem tylko 1 wartość, przepuszczaną przez sigmoidę - wtedy wyjście z sieci to prawdopodobieństwo klasy pozytywnej.\n",
        "\n",
        "Funkcją kosztu zwykle jest **entropia krzyżowa (cross-entropy)**, stosowana też w klasycznej regresji logistycznej. Co ważne, sieci neuronowe, nawet tak proste, uczą się szybciej i stabilniej, gdy dane na wejściu (a przynajmniej zmienne numeryczne) są **ustandaryzowane (standardized)**. Operacja ta polega na odjęciu średniej i podzieleniu przez odchylenie standardowe (tzw. *Z-score transformation*).\n",
        "\n",
        "**Uwaga - PyTorch wymaga tensora klas będącego liczbami zmiennoprzecinkowymi!**"
      ]
    },
    {
      "cell_type": "markdown",
      "metadata": {
        "id": "r_bWtzF42Di-"
      },
      "source": [
        "## Zbiór danych"
      ]
    },
    {
      "cell_type": "markdown",
      "metadata": {
        "id": "wmf1l2-s2Di-"
      },
      "source": [
        "Na tym laboratorium wykorzystamy zbiór [Adult Census](https://archive.ics.uci.edu/ml/datasets/adult). Dotyczy on przewidywania na podstawie danych demograficznych, czy dany człowiek zarabia powyżej 50 tysięcy dolarów miesięcznie, czy też mniej. Jest to cenna informacja np. przy planowaniu kampanii marketingowych. Jak możesz się domyślić, zbiór pochodzi z czasów, kiedy inflacja była dużo niższa :)\n",
        "\n",
        "Poniżej znajduje się kod do ściągnięcia i preprocessingu zbioru. Nie musisz go dokładnie analizować."
      ]
    },
    {
      "cell_type": "code",
      "execution_count": null,
      "metadata": {
        "colab": {
          "base_uri": "https://localhost:8080/"
        },
        "id": "4DNsaZAnLAs0",
        "outputId": "e134eaf0-60e9-49c6-8591-fa720d293053",
        "scrolled": true
      },
      "outputs": [
        {
          "output_type": "stream",
          "name": "stdout",
          "text": [
            "--2022-12-07 16:21:51--  https://archive.ics.uci.edu/ml/machine-learning-databases/adult/adult.data\n",
            "Resolving archive.ics.uci.edu (archive.ics.uci.edu)... 128.195.10.252\n",
            "Connecting to archive.ics.uci.edu (archive.ics.uci.edu)|128.195.10.252|:443... connected.\n",
            "HTTP request sent, awaiting response... 200 OK\n",
            "Length: 3974305 (3.8M) [application/x-httpd-php]\n",
            "Saving to: ‘adult.data’\n",
            "\n",
            "adult.data          100%[===================>]   3.79M  3.18MB/s    in 1.2s    \n",
            "\n",
            "2022-12-07 16:21:53 (3.18 MB/s) - ‘adult.data’ saved [3974305/3974305]\n",
            "\n"
          ]
        }
      ],
      "source": [
        "!wget https://archive.ics.uci.edu/ml/machine-learning-databases/adult/adult.data"
      ]
    },
    {
      "cell_type": "code",
      "execution_count": null,
      "metadata": {
        "colab": {
          "base_uri": "https://localhost:8080/"
        },
        "id": "Vep7lKy-2Di_",
        "outputId": "067c7a3b-8bd8-446d-901b-97040770c4bb"
      },
      "outputs": [
        {
          "output_type": "execute_result",
          "data": {
            "text/plain": [
              "array([' <=50K', ' >50K'], dtype=object)"
            ]
          },
          "metadata": {},
          "execution_count": 22
        }
      ],
      "source": [
        "import pandas as pd\n",
        "\n",
        "columns = [\n",
        "    \"age\",\n",
        "    \"workclass\",\n",
        "    \"fnlwgt\",\n",
        "    \"education\",\n",
        "    \"education-num\",\n",
        "    \"marital-status\",\n",
        "    \"occupation\",\n",
        "    \"relationship\",\n",
        "    \"race\",\n",
        "    \"sex\",\n",
        "    \"capital-gain\",\n",
        "    \"capital-loss\",\n",
        "    \"hours-per-week\",\n",
        "    \"native-country\",\n",
        "    \"wage\"\n",
        "]\n",
        "\n",
        "\"\"\"\n",
        "age: continuous.\n",
        "workclass: Private, Self-emp-not-inc, Self-emp-inc, Federal-gov, Local-gov, State-gov, Without-pay, Never-worked.\n",
        "fnlwgt: continuous.\n",
        "education: Bachelors, Some-college, 11th, HS-grad, Prof-school, Assoc-acdm, Assoc-voc, 9th, 7th-8th, 12th, Masters, 1st-4th, 10th, Doctorate, 5th-6th, Preschool.\n",
        "education-num: continuous.\n",
        "marital-status: Married-civ-spouse, Divorced, Never-married, Separated, Widowed, Married-spouse-absent, Married-AF-spouse.\n",
        "occupation: Tech-support, Craft-repair, Other-service, Sales, Exec-managerial, Prof-specialty, Handlers-cleaners, Machine-op-inspct, Adm-clerical, Farming-fishing, Transport-moving, Priv-house-serv, Protective-serv, Armed-Forces.\n",
        "relationship: Wife, Own-child, Husband, Not-in-family, Other-relative, Unmarried.\n",
        "race: White, Asian-Pac-Islander, Amer-Indian-Eskimo, Other, Black.\n",
        "sex: Female, Male.\n",
        "capital-gain: continuous.\n",
        "capital-loss: continuous.\n",
        "hours-per-week: continuous.\n",
        "native-country: United-States, Cambodia, England, Puerto-Rico, Canada, Germany, Outlying-US(Guam-USVI-etc), India, Japan, Greece, South, China, Cuba, Iran, Honduras, Philippines, Italy, Poland, Jamaica, Vietnam, Mexico, Portugal, Ireland, France, Dominican-Republic, Laos, Ecuador, Taiwan, Haiti, Columbia, Hungary, Guatemala, Nicaragua, Scotland, Thailand, Yugoslavia, El-Salvador, Trinadad&Tobago, Peru, Hong, Holand-Netherlands.\n",
        "\"\"\"\n",
        "\n",
        "df = pd.read_csv(\"adult.data\", header=None, names=columns)\n",
        "df.wage.unique()"
      ]
    },
    {
      "cell_type": "code",
      "execution_count": null,
      "metadata": {
        "id": "ziqrhmH_2Di_"
      },
      "outputs": [],
      "source": [
        "# attribution: https://www.kaggle.com/code/royshih23/topic7-classification-in-python\n",
        "df['education'].replace('Preschool', 'dropout',inplace=True)\n",
        "df['education'].replace('10th', 'dropout',inplace=True)\n",
        "df['education'].replace('11th', 'dropout',inplace=True)\n",
        "df['education'].replace('12th', 'dropout',inplace=True)\n",
        "df['education'].replace('1st-4th', 'dropout',inplace=True)\n",
        "df['education'].replace('5th-6th', 'dropout',inplace=True)\n",
        "df['education'].replace('7th-8th', 'dropout',inplace=True)\n",
        "df['education'].replace('9th', 'dropout',inplace=True)\n",
        "df['education'].replace('HS-Grad', 'HighGrad',inplace=True)\n",
        "df['education'].replace('HS-grad', 'HighGrad',inplace=True)\n",
        "df['education'].replace('Some-college', 'CommunityCollege',inplace=True)\n",
        "df['education'].replace('Assoc-acdm', 'CommunityCollege',inplace=True)\n",
        "df['education'].replace('Assoc-voc', 'CommunityCollege',inplace=True)\n",
        "df['education'].replace('Bachelors', 'Bachelors',inplace=True)\n",
        "df['education'].replace('Masters', 'Masters',inplace=True)\n",
        "df['education'].replace('Prof-school', 'Masters',inplace=True)\n",
        "df['education'].replace('Doctorate', 'Doctorate',inplace=True)\n",
        "\n",
        "df['marital-status'].replace('Never-married', 'NotMarried',inplace=True)\n",
        "df['marital-status'].replace(['Married-AF-spouse'], 'Married',inplace=True)\n",
        "df['marital-status'].replace(['Married-civ-spouse'], 'Married',inplace=True)\n",
        "df['marital-status'].replace(['Married-spouse-absent'], 'NotMarried',inplace=True)\n",
        "df['marital-status'].replace(['Separated'], 'Separated',inplace=True)\n",
        "df['marital-status'].replace(['Divorced'], 'Separated',inplace=True)\n",
        "df['marital-status'].replace(['Widowed'], 'Widowed',inplace=True)"
      ]
    },
    {
      "cell_type": "code",
      "execution_count": null,
      "metadata": {
        "id": "LiOxs_6mLAs1",
        "scrolled": true,
        "colab": {
          "base_uri": "https://localhost:8080/"
        },
        "outputId": "aea7b7c8-647a-4fb0-b3f1-85a99a126529"
      },
      "outputs": [
        {
          "output_type": "execute_result",
          "data": {
            "text/plain": [
              "((20838, 108), (20838,))"
            ]
          },
          "metadata": {},
          "execution_count": 24
        }
      ],
      "source": [
        "from sklearn.model_selection import train_test_split\n",
        "from sklearn.preprocessing import MinMaxScaler, OneHotEncoder, StandardScaler\n",
        "\n",
        "X = df.copy()\n",
        "y = (X.pop(\"wage\") == ' >50K').astype(int).values\n",
        "\n",
        "train_valid_size = 0.2\n",
        "\n",
        "X_train, X_test, y_train, y_test = train_test_split(\n",
        "    X, y, \n",
        "    test_size=train_valid_size, \n",
        "    random_state=0, \n",
        "    shuffle=True, \n",
        "    stratify=y\n",
        ")\n",
        "X_train, X_valid, y_train, y_valid = train_test_split(\n",
        "    X_train, y_train, \n",
        "    test_size=train_valid_size, \n",
        "    random_state=0, \n",
        "    shuffle=True, \n",
        "    stratify=y_train\n",
        ")\n",
        "\n",
        "continuous_cols = ['age', 'fnlwgt', 'education-num', 'capital-gain', 'capital-loss', 'hours-per-week']\n",
        "continuous_X_train = X_train[continuous_cols]\n",
        "categorical_X_train = X_train.loc[:, ~X_train.columns.isin(continuous_cols)]\n",
        "\n",
        "continuous_X_valid = X_valid[continuous_cols]\n",
        "categorical_X_valid = X_valid.loc[:, ~X_valid.columns.isin(continuous_cols)]\n",
        "\n",
        "continuous_X_test = X_test[continuous_cols]\n",
        "categorical_X_test = X_test.loc[:, ~X_test.columns.isin(continuous_cols)]\n",
        "\n",
        "categorical_encoder = OneHotEncoder(sparse=False, handle_unknown='ignore')\n",
        "continuous_scaler = StandardScaler() #MinMaxScaler(feature_range=(-1, 1))\n",
        "\n",
        "categorical_encoder.fit(categorical_X_train)\n",
        "continuous_scaler.fit(continuous_X_train)\n",
        "\n",
        "continuous_X_train = continuous_scaler.transform(continuous_X_train)\n",
        "continuous_X_valid = continuous_scaler.transform(continuous_X_valid)\n",
        "continuous_X_test = continuous_scaler.transform(continuous_X_test)\n",
        "\n",
        "categorical_X_train = categorical_encoder.transform(categorical_X_train)\n",
        "categorical_X_valid = categorical_encoder.transform(categorical_X_valid)\n",
        "categorical_X_test = categorical_encoder.transform(categorical_X_test)\n",
        "\n",
        "X_train = np.concatenate([continuous_X_train, categorical_X_train], axis=1)\n",
        "X_valid = np.concatenate([continuous_X_valid, categorical_X_valid], axis=1)\n",
        "X_test = np.concatenate([continuous_X_test, categorical_X_test], axis=1)\n",
        "\n",
        "X_train.shape, y_train.shape"
      ]
    },
    {
      "cell_type": "markdown",
      "metadata": {
        "id": "4cX_usVD2Di_"
      },
      "source": [
        "Uwaga co do typów - PyTorchu wszystko w sieci neuronowej musi być typu `float32`. W szczególności trzeba uważać na konwersje z Numpy'a, który używa domyślnie typu `float64`. Może ci się przydać metoda `.float()`.\n",
        "\n",
        "Uwaga co do kształtów wyjścia - wejścia do `nn.BCELoss` muszą być tego samego kształtu. Może ci się przydać metoda `.squeeze()` lub `.unsqueeze()`."
      ]
    },
    {
      "cell_type": "code",
      "execution_count": null,
      "metadata": {
        "id": "qfRA3xEoLAs1"
      },
      "outputs": [],
      "source": [
        "X_train = torch.from_numpy(X_train).float()\n",
        "y_train = torch.from_numpy(y_train).float().unsqueeze(-1)\n",
        "\n",
        "X_valid = torch.from_numpy(X_valid).float()\n",
        "y_valid = torch.from_numpy(y_valid).float().unsqueeze(-1)\n",
        "\n",
        "X_test = torch.from_numpy(X_test).float()\n",
        "y_test = torch.from_numpy(y_test).float().unsqueeze(-1)"
      ]
    },
    {
      "cell_type": "markdown",
      "metadata": {
        "id": "DSFjEkUj2DjA"
      },
      "source": [
        "Podobnie jak w laboratorium 2, mamy tu do czynienia z klasyfikacją niezbalansowaną:"
      ]
    },
    {
      "cell_type": "code",
      "execution_count": null,
      "metadata": {
        "id": "qmkqpmdN2DjA",
        "colab": {
          "base_uri": "https://localhost:8080/",
          "height": 281
        },
        "outputId": "18c15718-4656-4aa7-d6a4-9299f60606e8"
      },
      "outputs": [
        {
          "output_type": "display_data",
          "data": {
            "text/plain": [
              "<Figure size 432x288 with 1 Axes>"
            ],
            "image/png": "[encoded data removed]"
          },
          "metadata": {
            "needs_background": "light"
          }
        }
      ],
      "source": [
        "import matplotlib.pyplot as plt\n",
        "\n",
        "y_pos_perc = 100 * y_train.sum().item() / len(y_train)\n",
        "y_neg_perc = 100 - y_pos_perc\n",
        "\n",
        "plt.title(\"Class percentages\")\n",
        "plt.bar([\"<50k\", \">=50k\"], [y_neg_perc, y_pos_perc])\n",
        "plt.show()"
      ]
    },
    {
      "cell_type": "markdown",
      "metadata": {
        "id": "nMRYhcr62DjA"
      },
      "source": [
        "W związku z powyższym będziemy używać odpowiednich metryk, czyli AUROC, precyzji i czułości."
      ]
    },
    {
      "cell_type": "markdown",
      "metadata": {
        "id": "XLexWff-LAs0"
      },
      "source": [
        "#### Zadanie 3 (1 punkt)\n",
        "\n",
        "Zaimplementuj regresję logistyczną dla tego zbioru danych, używając PyTorcha. Dane wejściowe zostały dla ciebie przygotowane w komórkach poniżej.\n",
        "\n",
        "Sama sieć składa się z 2 elementów:\n",
        "- warstwa liniowa `nn.Linear`, przekształcająca wektor wejściowy na 1 wyjście - logit\n",
        "- aktywacja sigmoidalna `nn.Sigmoid`, przekształcająca logit na prawdopodobieństwo klasy pozytywnej\n",
        "\n",
        "Użyj binarnej entropii krzyżowej `nn.BCELoss` jako funkcji kosztu. Użyj optymalizatora SGD ze stałą uczącą `1e-3`. Trenuj przez 3000 epok. Pamiętaj, aby przekazać do optymalizatora `torch.optim.SGD` parametry sieci (metoda `.parameters()`)."
      ]
    },
    {
      "cell_type": "code",
      "source": [
        "import torch\n",
        "class LogisticRegression(torch.nn.Module):\n",
        "     def __init__(self, input_dim, output_dim):\n",
        "         super(LogisticRegression, self).__init__()\n",
        "         self.linear = torch.nn.Linear(input_dim, output_dim)\n",
        "         \n",
        "     def forward(self, x):\n",
        "         outputs = torch.sigmoid(self.linear(x))\n",
        "         return outputs"
      ],
      "metadata": {
        "id": "fA6aKrkb30ms"
      },
      "execution_count": null,
      "outputs": []
    },
    {
      "cell_type": "code",
      "execution_count": null,
      "metadata": {
        "id": "NbABKz5-LAs2",
        "scrolled": true,
        "colab": {
          "base_uri": "https://localhost:8080/"
        },
        "outputId": "71526fc2-e217-45ef-f14a-00929fc58dae"
      },
      "outputs": [
        {
          "output_type": "stream",
          "name": "stdout",
          "text": [
            "epoch: 100 ,loss= 0.6545319557189941\n",
            "epoch: 200 ,loss= 0.6261790990829468\n",
            "epoch: 300 ,loss= 0.6026148200035095\n",
            "epoch: 400 ,loss= 0.5828774571418762\n",
            "epoch: 500 ,loss= 0.5662029981613159\n",
            "epoch: 600 ,loss= 0.551988422870636\n",
            "epoch: 700 ,loss= 0.5397584438323975\n",
            "epoch: 800 ,loss= 0.52913898229599\n",
            "epoch: 900 ,loss= 0.5198346376419067\n",
            "epoch: 1000 ,loss= 0.5116113424301147\n",
            "epoch: 1100 ,loss= 0.5042834281921387\n",
            "epoch: 1200 ,loss= 0.4977021813392639\n",
            "epoch: 1300 ,loss= 0.4917486011981964\n",
            "epoch: 1400 ,loss= 0.48632657527923584\n",
            "epoch: 1500 ,loss= 0.48135805130004883\n",
            "epoch: 1600 ,loss= 0.4767792820930481\n",
            "epoch: 1700 ,loss= 0.4725382924079895\n",
            "epoch: 1800 ,loss= 0.46859169006347656\n",
            "epoch: 1900 ,loss= 0.4649037718772888\n",
            "epoch: 2000 ,loss= 0.4614446759223938\n",
            "epoch: 2100 ,loss= 0.4581891894340515\n",
            "epoch: 2200 ,loss= 0.45511600375175476\n",
            "epoch: 2300 ,loss= 0.4522070288658142\n",
            "epoch: 2400 ,loss= 0.44944679737091064\n",
            "epoch: 2500 ,loss= 0.44682201743125916\n",
            "epoch: 2600 ,loss= 0.4443209767341614\n",
            "epoch: 2700 ,loss= 0.44193384051322937\n",
            "epoch: 2800 ,loss= 0.4396514594554901\n",
            "epoch: 2900 ,loss= 0.4374662935733795\n",
            "epoch: 3000 ,loss= 0.43537142872810364\n",
            "final loss: 0.4354\n"
          ]
        }
      ],
      "source": [
        "learning_rate = 1e-3\n",
        "epochs_num = 3000\n",
        "\n",
        "model = LogisticRegression(108, 1)\n",
        "optimizer = torch.optim.SGD(model.parameters(), lr=learning_rate)\n",
        "#activation = \n",
        "loss_fn = torch.nn.BCELoss()\n",
        "\n",
        "for epoch in range(epochs_num):\n",
        " y_prediction = model(X_train)\n",
        " loss = loss_fn(y_prediction,y_train)\n",
        " loss.backward()\n",
        " optimizer.step()\n",
        " optimizer.zero_grad()\n",
        " if (epoch+1)%100 == 0:\n",
        "   print('epoch:', epoch+1,',loss=',loss.item())\n",
        "\n",
        "print(f\"final loss: {loss.item():.4f}\")"
      ]
    },
    {
      "cell_type": "markdown",
      "metadata": {
        "id": "6tXORhyF2DjB"
      },
      "source": [
        "Teraz trzeba sprawdzić, jak poszło naszej sieci. W PyTorchu sieć pracuje zawsze w jednym z dwóch trybów: treningowym lub ewaluacyjnym (predykcyjnym). Ten drugi wyłącza niektóre mechanizmy, które są używane tylko podczas treningu, w szczególności regularyzację dropout. Do przełączania służą metody modelu `.train()` i `.eval()`.\n",
        "\n",
        "Dodatkowo podczas liczenia predykcji dobrze jest wyłączyć liczenie gradientów, bo nie będą potrzebne, a oszczędza to czas i pamięć. Używa się do tego menadżera kontekstu `with torch.no_grad():`."
      ]
    },
    {
      "cell_type": "code",
      "execution_count": null,
      "metadata": {
        "id": "zH37zDX4LAs2",
        "scrolled": true,
        "colab": {
          "base_uri": "https://localhost:8080/"
        },
        "outputId": "9b3eb6af-ead7-4abc-afb3-88051d25992d"
      },
      "outputs": [
        {
          "output_type": "stream",
          "name": "stdout",
          "text": [
            "AUROC: 85.01%\n"
          ]
        }
      ],
      "source": [
        "from sklearn.metrics import precision_recall_curve, precision_recall_fscore_support, roc_auc_score\n",
        "\n",
        "\n",
        "model.eval()\n",
        "with torch.no_grad():\n",
        "    y_score = torch.sigmoid(model(X_test))\n",
        "\n",
        "auroc = roc_auc_score(y_test, y_score)\n",
        "print(f\"AUROC: {100 * auroc:.2f}%\")"
      ]
    },
    {
      "cell_type": "markdown",
      "metadata": {
        "id": "D1LGmv8Q2DjB"
      },
      "source": [
        "Jest to całkiem dobry wynik, a może być jeszcze lepszy. Sprawdźmy dla pewności jeszcze inne metryki: precyzję, recall oraz F1-score. Dodatkowo narysujemy krzywą precision-recall, czyli jak zmieniają się te metryki w zależności od przyjętego progu (threshold) prawdopodobieństwa, powyżej którego przyjmujemy klasę pozytywną. Taką krzywą należy rysować na zbiorze walidacyjnym, bo później chcemy wykorzystać tę informację do doboru progu, a nie chcemy mieć wycieku danych testowych (data leakage).\n",
        "\n",
        "Poniżej zaimplementowano także funkcję `get_optimal_threshold()`, która sprawdza, dla którego progu uzyskujemy maksymalny F1-score, i zwraca indeks oraz wartość optymalnego progu. Przyda ci się ona w dalszej części laboratorium."
      ]
    },
    {
      "cell_type": "code",
      "execution_count": null,
      "metadata": {
        "id": "nlUyRvW22DjB"
      },
      "outputs": [],
      "source": [
        "from sklearn.metrics import PrecisionRecallDisplay\n",
        "\n",
        "\n",
        "def get_optimal_threshold(\n",
        "    precisions: np.array, \n",
        "    recalls: np.array, \n",
        "    thresholds: np.array\n",
        ") -> Tuple[int, float]:\n",
        "    f1_scores = 2 * precisions * recalls / (precisions + recalls)\n",
        "    \n",
        "    optimal_idx = np.nanargmax(f1_scores)\n",
        "    optimal_threshold = thresholds[optimal_idx]\n",
        "    \n",
        "    return optimal_idx, optimal_threshold\n",
        "\n",
        "\n",
        "def plot_precision_recall_curve(y_true, y_pred_score) -> None:\n",
        "    precisions, recalls, thresholds = precision_recall_curve(y_true, y_pred_score)\n",
        "    optimal_idx, optimal_threshold = get_optimal_threshold(precisions, recalls, thresholds)\n",
        "\n",
        "    disp = PrecisionRecallDisplay(precisions, recalls)\n",
        "    disp.plot()\n",
        "    plt.title(f\"Precision-recall curve (opt. thresh.: {optimal_threshold:.4f})\")\n",
        "    plt.axvline(recalls[optimal_idx], color=\"green\", linestyle=\"-.\")\n",
        "    plt.axhline(precisions[optimal_idx], color=\"green\", linestyle=\"-.\")\n",
        "    plt.show()\n"
      ]
    },
    {
      "cell_type": "code",
      "execution_count": null,
      "metadata": {
        "id": "3H6dkxoZ2DjC",
        "colab": {
          "base_uri": "https://localhost:8080/",
          "height": 295
        },
        "outputId": "a9821236-17be-4acd-e251-d019ef929264"
      },
      "outputs": [
        {
          "output_type": "display_data",
          "data": {
            "text/plain": [
              "<Figure size 432x288 with 1 Axes>"
            ],
            "image/png": "[encoded data removed]"
          },
          "metadata": {
            "needs_background": "light"
          }
        }
      ],
      "source": [
        "model.eval()\n",
        "with torch.no_grad():\n",
        "    y_pred_valid_score = torch.sigmoid(model(X_valid))\n",
        "\n",
        "plot_precision_recall_curve(y_valid, y_pred_valid_score)"
      ]
    },
    {
      "cell_type": "markdown",
      "metadata": {
        "id": "vfQPIUQ_LAs2"
      },
      "source": [
        "Jak widać, chociaż AUROC jest wysokie, to dla optymalnego F1-score recall nie jest zbyt wysoki, a precyzja jest już dość niska. Być może wynik uda się poprawić, używając modelu o większej pojemności - pełnej, głębokiej sieci neuronowej."
      ]
    },
    {
      "cell_type": "markdown",
      "metadata": {
        "id": "8wrQh7ED2DjC"
      },
      "source": [
        "## Sieci neuronowe"
      ]
    },
    {
      "cell_type": "markdown",
      "metadata": {
        "id": "YP298w6Cq7T6"
      },
      "source": [
        "Wszystko zaczęło się od inspirowanych biologią [sztucznych neuronów](https://en.wikipedia.org/wiki/Artificial_neuron), których próbowano użyć do symulacji mózgu. Naukowcy szybko odeszli od tego podejścia (sam problem modelowania okazał się też znacznie trudniejszy, niż sądzono), zamiast tego używając neuronów jako jednostek reprezentującą dowolną funkcję parametryczną $f(x, \\Theta)$. Każdy neuron jest zatem bardzo elastyczny, bo jedyne wymagania to funkcja różniczkowalna, a mamy do tego wektor parametrów $\\Theta$.\n",
        "\n",
        "W praktyce najczęściej można spotkać się z kilkoma rodzinami sieci neuronowych:\n",
        "1. Perceptrony wielowarstwowe (*MultiLayer Perceptron*, MLP) - najbardziej podobne do powyższego opisu, niezbędne do klasyfikacji i regresji\n",
        "2. Konwolucyjne (*Convolutional Neural Networks*, CNNs) - do przetwarzania danych z zależnościami przestrzennymi, np. obrazów czy dźwięku\n",
        "3. Rekurencyjne (*Recurrent Neural Networks*, RNNs) - do przetwarzania danych z zależnościami sekwencyjnymi, np. szeregi czasowe, oraz kiedyś do języka naturalnego\n",
        "4. Transformacyjne (*Transformers*), oparte o mechanizm atencji (*attention*) - do przetwarzania języka naturalnego (NLP), z którego wyparły RNNs, a coraz częściej także do wszelkich innych danych, np. obrazów, dźwięku\n",
        "5. Grafowe (*Graph Neural Networks*, GNNS) - do przetwarzania grafów\n",
        "\n",
        "Na tym laboratorium skupimy się na najprostszej architekturze, czyli MLP. Jest ona powszechnie łączona z wszelkimi innymi architekturami, bo pozwala dokonywać klasyfikacji i regresji. Przykładowo, klasyfikacja obrazów to zwykle CNN + MLP, klasyfikacja tekstów to transformer + MLP, a regresja na grafach to GNN + MLP.\n",
        "\n",
        "Dodatkowo, pomimo prostoty MLP są bardzo potężne - udowodniono, że perceptrony (ich powszechna nazwa) są [uniwersalnym aproksymatorem](https://www.sciencedirect.com/science/article/abs/pii/0893608089900208), będącym w stanie przybliżyć dowolną funkcję z odpowiednio małym błędem, zakładając wystarczającą wielkość warstw sieci. Szczególne ich wersje potrafią nawet [reprezentować drzewa decyzyjne](https://www.youtube.com/watch?v=_okxGdHM5b8).\n",
        "\n",
        "Dla zainteresowanych polecamy [doskonałą książkę \"Dive into Deep Learning\", z implementacjami w PyTorchu](https://d2l.ai/chapter_multilayer-perceptrons/index.html), [klasyczną książkę \"Deep Learning Book\"](https://www.deeplearningbook.org/contents/mlp.html), oraz [ten filmik](https://www.youtube.com/watch?v=BFHrIxKcLjA), jeśli zastanawiałeś/-aś się, czemu używamy deep learning, a nie naprzykład (wide?) learning. (aka. czemu staramy się budować głębokie sieci, a nie płytkie za to szerokie)"
      ]
    },
    {
      "cell_type": "markdown",
      "metadata": {
        "id": "S_ZjoGBU5upj"
      },
      "source": [
        "### Sieci MLP\n",
        "\n",
        "Dla przypomnienia, na wejściu mamy punkty ze zbioru treningowego, czyli $d$-wymiarowe wektory. W klasyfikacji chcemy znaleźć granicę decyzyjną, czyli krzywą, która oddzieli od siebie klasy. W wejściowej przestrzeni może być to trudne, bo chmury punktów z poszczególnych klas mogą być ze sobą dość pomieszane. Pamiętajmy też, że regresja logistyczna jest klasyfikatorem liniowym, czyli w danej przestrzeni potrafi oddzielić punkty tylko linią prostą.\n",
        "\n",
        "Sieć MLP składa się z warstw. Każda z nich dokonuje nieliniowego przekształcenia przestrzeni (można o tym myśleć jak o składaniu przestrzeni jakąś prostą/łamaną), tak, aby w finalnej przestrzeni nasze punkty były możliwie liniowo separowalne. Wtedy ostatnia warstwa z sigmoidą będzie potrafiła je rozdzielić od siebie.\n",
        "\n",
        "![1_x-3NGQv0pRIab8xDT-f_Hg.png](attachment:1_x-3NGQv0pRIab8xDT-f_Hg.png)\n",
        "\n",
        "Poszczególne neurony składają się z iloczynu skalarnego wejść z wagami neuronu, oraz nieliniowej funkcji aktywacji. W PyTorchu są to osobne obiekty - `nn.Linear` oraz np. `nn.Sigmoid`. Funkcja aktywacji przyjmuje wynik iloczynu skalarnego i przekształca go, aby sprawdzić, jak mocno reaguje neuron na dane wejście. Musi być nieliniowa z dwóch powodów. Po pierwsze, tylko nieliniowe przekształcenia są na tyle potężne, żeby umożliwić liniową separację danych w ostatniej warstwie. Po drugie, liniowe przekształcenia zwyczajnie nie działają. Aby zrozumieć czemu, trzeba zobaczyć, co matematycznie oznacza sieć MLP.\n",
        "\n",
        "![perceptron](https://www.saedsayad.com/images/Perceptron_bkp_1.png)\n",
        "\n",
        "Zapisane matematycznie MLP to:\n",
        "$\n",
        "h_1 = f_1(x) \\\\\n",
        "h_2 = f_2(h_1) \\\\\n",
        "h_3 = f_3(h_2) \\\\\n",
        "...\n",
        "h_n = f_n(h_{n-1})\n",
        "$\n",
        "gdzie $x$ to wejście $f_i$ to funkcja aktywacji $i$-tej warstwy, a $h_i$ to wyjście $i$-tej warstwy, nazywane **ukrytą reprezentacją (hidden representation)**, lub *latent representation*. Nazwa bierze się z tego, że w środku sieci wyciągamy cechy i wzorce w danych, które nie są widoczne na pierwszy rzut oka na wejściu.\n",
        "\n",
        "Załóżmy, że nie mamy funkcji aktywacji, czyli mamy aktywację liniową $f(x) = x$. Zobaczmy na początku sieci:\n",
        "$\n",
        "h_1 = f_1(x) = x\n",
        "h_2 = f_2(f_1) = f_2(x) = x\n",
        "...\n",
        "h_n = f_n(f_{n-1}) = f_n(x) = x\n",
        "$\n",
        "Jak widać, taka sieć niczego się nie nauczy. Wynika to z tego, że złożenie funkcji liniowych jest także funkcją liniową - patrz notatki z algebry :)\n",
        "\n",
        "Jeżeli natomiast użyjemy nieliniowej funkcji aktywacji, często oznaczanej jako $\\sigma$, to wszystko będzie działać. Co ważne, ostatnia warstwa, dająca wyjście sieci, ma zwykle inną aktywację od warstw wewnątrz sieci, bo też ma inne zadanie - zwrócić wartość dla klasyfikacji lub regresji. Na wyjściu korzysta się z funkcji liniowej (regresja), sigmoidalnej (klasyfikacja binarna) lub softmax (klasyfikacja wieloklasowa).\n",
        "\n",
        "Wewnątrz sieci używano kiedyś sigmoidy oraz tangensa hiperbolicznego `tanh`, ale okazało się to nieefektywne przy uczeniu głębokich sieci o wielu warstwach. Nowoczesne sieci korzystają zwykle z funkcji ReLU (*rectified linear unit*), która jest zaskakująco prosta: $ReLU(x) = \\max(0, x)$. Okazało się, że bardzo dobrze nadaje się do treningu nawet bardzo głębokich sieci neuronowych. Nowsze funkcje aktywacji są głównie modyfikacjami ReLU.\n",
        "\n",
        "![relu](https://www.nomidl.com/wp-content/uploads/2022/04/image-10.png)"
      ]
    },
    {
      "cell_type": "markdown",
      "metadata": {
        "id": "x9KWjnGB2DjD"
      },
      "source": [
        "### MLP w PyTorchu\n",
        "\n",
        "Warstwę neuronów w MLP nazywa się warstwą gęstą (*dense layer*) lub warstwą w pełni połączoną (*fully-connected layer*), i taki opis oznacza zwykle same neurony oraz funkcję aktywacji. PyTorch, jak już widzieliśmy, definiuje osobno transformację liniową oraz aktywację, a więc jedna warstwa składa się de facto z 2 obiektów, wywoływanych jeden po drugim. Inne frameworki, szczególnie wysokopoziomowe (np. Keras) łączą to często w jeden obiekt.\n",
        "\n",
        "MLP składa się zatem z sekwencji obiektów, które potem wywołuje się jeden po drugim, gdzie wyjście poprzedniego to wejście kolejnego. Ale nie można tutaj używać Pythonowych list! Z perspektywy PyTorcha to wtedy niezależne obiekty i nie zostanie wtedy przekazany między nimi gradient. Trzeba tutaj skorzystać z `nn.Sequential`, aby tworzyć taki pipeline.\n",
        "\n",
        "Rozmiary wejścia i wyjścia dla każdej warstwy trzeba w PyTorchu podawać explicite. Jest to po pierwsze edukacyjne, a po drugie często ułatwia wnioskowanie o działaniu sieci oraz jej debugowanie - mamy jasno podane, czego oczekujemy. Niektóre frameworki (np. Keras) obliczają to automatycznie.\n",
        "\n",
        "Co ważne, ostatnia warstwa zwykle nie ma funkcji aktywacji. Wynika to z tego, że obliczanie wielu funkcji kosztu (np. entropii krzyżowej) na aktywacjach jest często niestabilne numerycznie. Z tego powodu PyTorch oferuje funkcje kosztu zawierające w środku aktywację dla ostatniej warstwy, a ich implementacje są stabilne numerycznie. Przykładowo, `nn.BCELoss` przyjmuje wejście z zaaplikowanymi już aktywacjami, ale może skutkować under/overflow, natomiast `nn.BCEWithLogitsLoss` przyjmuje wejście bez aktywacji, a w środku ma specjalną implementację łączącą binarną entropię krzyżową z aktywacją sigmoidalną. Oczywiście w związku z tym aby dokonać potem predykcji w praktyce, trzeba pamiętać o użyciu funkcji aktywacji. Często korzysta się przy tym z funkcji z modułu `torch.nn.functional`, które są w tym wypadku nieco wygodniejsze od klas wywoływalnych z `torch.nn`.\n",
        "\n",
        "Całe sieci w PyTorchu tworzy się jako klasy dziedziczące po `nn.Module`. Co ważne, obiekty, z których tworzymy sieć, np. `nn.Linear`, także dziedziczą po tej klasie. Pozwala to na bardzo modułową budowę kodu, zgodną z zasadami OOP. W konstruktorze najpierw trzeba zawsze wywołać konstruktor rodzica - `super().__init__()`, a później tworzy się potrzebne obiekty i zapisuje jako atrybuty. Musimy też zdefiniować metodę `forward()`, która przyjmuje tensor `x` i zwraca wynik. Typowo ta metoda po prostu używa obiektów zdefiniowanych w konstruktorze.\n",
        "\n",
        "\n",
        "**UWAGA: nigdy w normalnych warunkach się nie woła metody `forward` ręcznie**"
      ]
    },
    {
      "cell_type": "markdown",
      "metadata": {
        "id": "J8niDgExAMDO"
      },
      "source": [
        "#### Zadanie 4 (1 punkt)\n",
        "\n",
        "Uzupełnij implementację 3-warstwowej sieci MLP. Użyj rozmiarów:\n",
        "* pierwsza warstwa: input_size x 256\n",
        "* druga warstwa: 256 x 128\n",
        "* trzecia warstwa: 128 x 1\n",
        "\n",
        "Użyj funkcji aktywacji ReLU.\n",
        "\n",
        "Przydatne klasy:\n",
        "- `nn.Sequential`\n",
        "- `nn.Linear`\n",
        "- `nn.ReLU`"
      ]
    },
    {
      "cell_type": "code",
      "execution_count": null,
      "metadata": {
        "id": "pZpuVDz1ALU5"
      },
      "outputs": [],
      "source": [
        "from torch import sigmoid\n",
        "\n",
        "class MLP(nn.Module):\n",
        "    def __init__(self, input_size: int):\n",
        "        super().__init__()\n",
        "        self.mlp =  nn.Sequential(\n",
        "          nn.Linear(input_size, 256),\n",
        "          nn.ReLU(),\n",
        "          nn.Linear(256, 128),\n",
        "          nn.ReLU(),\n",
        "          nn.Linear(128, 1)\n",
        "        ) \n",
        "\n",
        "    def forward(self, x):\n",
        "        return self.mlp(x)\n",
        "\n",
        "    def predict_proba(self, x):\n",
        "        return sigmoid(self(x))\n",
        "    \n",
        "    def predict(self, x):\n",
        "        y_pred_score = self.predict_proba(x)\n",
        "        return torch.argmax(y_pred_score, dim=1)\n"
      ]
    },
    {
      "cell_type": "code",
      "execution_count": null,
      "metadata": {
        "id": "wcJmqdZO2DjD",
        "colab": {
          "base_uri": "https://localhost:8080/"
        },
        "outputId": "49c692e5-f0c2-492f-cd18-94aff463f56d"
      },
      "outputs": [
        {
          "output_type": "stream",
          "name": "stdout",
          "text": [
            "Epoch 0 train loss: 0.6738\n",
            "Epoch 200 train loss: 0.6524\n",
            "Epoch 400 train loss: 0.6342\n",
            "Epoch 600 train loss: 0.6184\n",
            "Epoch 800 train loss: 0.6046\n",
            "Epoch 1000 train loss: 0.5923\n",
            "Epoch 1200 train loss: 0.5814\n",
            "Epoch 1400 train loss: 0.5716\n",
            "Epoch 1600 train loss: 0.5629\n",
            "Epoch 1800 train loss: 0.5551\n",
            "final loss: 0.5480\n"
          ]
        }
      ],
      "source": [
        "learning_rate = 1e-3\n",
        "model = MLP(input_size=X_train.shape[1])\n",
        "optimizer = torch.optim.SGD(model.parameters(), lr=learning_rate)\n",
        "\n",
        "# note that we are using loss function with sigmoid built in\n",
        "loss_fn = torch.nn.BCEWithLogitsLoss()\n",
        "num_epochs = 2000\n",
        "evaluation_steps = 200\n",
        "\n",
        "for i in range(num_epochs):\n",
        "    y_pred = model(X_train)\n",
        "    loss = loss_fn(y_pred, y_train)\n",
        "    loss.backward()\n",
        "\n",
        "    optimizer.step()\n",
        "    optimizer.zero_grad()\n",
        "\n",
        "    if i % evaluation_steps == 0:\n",
        "        print(f\"Epoch {i} train loss: {loss.item():.4f}\")\n",
        "\n",
        "print(f\"final loss: {loss.item():.4f}\")"
      ]
    },
    {
      "cell_type": "code",
      "execution_count": null,
      "metadata": {
        "id": "LP5GSup24dXU",
        "colab": {
          "base_uri": "https://localhost:8080/",
          "height": 312
        },
        "outputId": "4f0565ad-26bd-4f32-b24d-2385246e7727"
      },
      "outputs": [
        {
          "output_type": "stream",
          "name": "stdout",
          "text": [
            "AUROC: 80.38%\n"
          ]
        },
        {
          "output_type": "display_data",
          "data": {
            "text/plain": [
              "<Figure size 432x288 with 1 Axes>"
            ],
            "image/png": "[encoded data removed]"
          },
          "metadata": {
            "needs_background": "light"
          }
        }
      ],
      "source": [
        "model.eval()\n",
        "with torch.no_grad():\n",
        "    # positive class probabilities\n",
        "    y_pred_valid_score = model.predict_proba(X_valid)\n",
        "    y_pred_test_score = model.predict_proba(X_test)\n",
        "\n",
        "auroc = roc_auc_score(y_test, y_pred_test_score)\n",
        "print(f\"AUROC: {100 * auroc:.2f}%\")\n",
        "\n",
        "plot_precision_recall_curve(y_valid, y_pred_valid_score)"
      ]
    },
    {
      "cell_type": "markdown",
      "metadata": {
        "id": "lDDVV_CE2DjE"
      },
      "source": [
        "AUROC jest podobne, a precision i recall spadły - wypadamy wręcz gorzej od regresji liniowej! Skoro dodaliśmy więcej warstw, to może pojemność modelu jest teraz za duża i trzeba by go zregularyzować?\n",
        "\n",
        "Sieci neuronowe bardzo łatwo przeuczają, bo są bardzo elastycznymi i pojemnymi modelami. Dlatego mają wiele różnych rodzajów regularyzacji, których używa się razem. Co ciekawe, udowodniono eksperymentalnie, że zbyt duże sieci z mocną regularyzacją działają lepiej niż mniejsze sieci, odpowiedniego rozmiaru, za to ze słabszą regularyzacją.\n",
        "\n",
        "Pierwszy rodzaj regularyzacji to znana nam już **regularyzacja L2**, czyli penalizacja zbyt dużych wag. W kontekście sieci neuronowych nazywa się też ją czasem *weight decay*. W PyTorchu dodaje się ją jako argument do optymalizatora.\n",
        "\n",
        "Regularyzacja specyficzna dla sieci neuronowych to **dropout**. Polega on na losowym wyłączaniu zadanego procenta neuronów podczas treningu. Pomimo prostoty okazała się niesamowicie skuteczna, szczególnie w treningu bardzo głębokich sieci. Co ważne, jest to mechanizm używany tylko podczas treningu - w trakcie predykcji za pomocą sieci wyłącza się ten mechanizm i dokonuje normalnie predykcji całą siecią. Podejście to można potraktować jak ensemble learning, podobny do lasów losowych - wyłączając losowe części sieci, w każdej iteracji trenujemy nieco inną sieć, co odpowiada uśrednianiu predykcji różnych algorytmów. Typowo stosuje się dość mocny dropout, rzędu 25-50%. W PyTorchu implementuje go warstwa `nn.Dropout`, aplikowana zazwyczaj po funkcji aktywacji.\n",
        "\n",
        "Ostatni, a być może najważniejszy rodzaj regularyzacji to **wczesny stop (early stopping)**. W każdym kroku mocniej dostosowujemy terenową sieć do zbioru treningowego, a więc zbyt długi trening będzie skutkował przeuczeniem. W metodzie wczesnego stopu używamy wydzielonego zbioru walidacyjnego (pojedynczego, metoda holdout), sprawdzając co określoną liczbę epok wynik na tym zbiorze. Jeżeli nie uzyskamy wyniku lepszego od najlepszego dotychczas uzyskanego przez określoną liczbę epok, to przerywamy trening. Okres, przez który czekamy na uzyskanie lepszego wyniku, to cierpliwość (*patience*). Im mniejsze, tym mocniejszy jest ten rodzaj regularyzacji, ale trzeba z tym uważać, bo łatwo jest przesadzić i zbyt szybko przerywać trening. Niektóre implementacje uwzględniają tzw. *grace period*, czyli gwarantowaną minimalną liczbę epok, przez którą będziemy trenować sieć, niezależnie od wybranej cierpliwości.\n",
        "\n",
        "Dodatkowo ryzyko przeuczenia można zmniejszyć, używając mniejszej stałej uczącej."
      ]
    },
    {
      "cell_type": "markdown",
      "metadata": {
        "id": "gZA2aK6d2DjE"
      },
      "source": [
        "#### Zadanie 5 (1 punkt)\n",
        "\n",
        "Zaimplementuj funkcję `evaluate_model()`, obliczającą metryki na zbiorze testowym:\n",
        "- wartość funkcji kosztu (loss)\n",
        "- AUROC\n",
        "- optymalny próg\n",
        "- F1-score przy optymalnym progu\n",
        "- precyzję oraz recall dla optymalnego progu\n",
        "\n",
        "Jeżeli podana jest wartość argumentu `threshold`, to użyj jej do zamiany prawdopodobieństw na twarde predykcje. W przeciwnym razie użyj funkcji `get_optimal_threshold` i oblicz optymalną wartość progu.\n",
        "\n",
        "Pamiętaj o przełączeniu modelu w tryb ewaluacji oraz o wyłączeniu obliczania gradientów."
      ]
    },
    {
      "cell_type": "code",
      "source": [
        "!pip install torchmetrics"
      ],
      "metadata": {
        "colab": {
          "base_uri": "https://localhost:8080/"
        },
        "id": "TrQ1pZ5-unye",
        "outputId": "9a13618d-7d28-41c3-ebcb-7d0e54b740d0"
      },
      "execution_count": 44,
      "outputs": [
        {
          "output_type": "stream",
          "name": "stdout",
          "text": [
            "Looking in indexes: https://pypi.org/simple, https://us-python.pkg.dev/colab-wheels/public/simple/\n",
            "Collecting torchmetrics\n",
            "  Downloading torchmetrics-0.11.0-py3-none-any.whl (512 kB)\n",
            "\u001b[K     |████████████████████████████████| 512 kB 14.8 MB/s \n",
            "\u001b[?25hRequirement already satisfied: packaging in /usr/local/lib/python3.8/dist-packages (from torchmetrics) (21.3)\n",
            "Requirement already satisfied: numpy>=1.17.2 in /usr/local/lib/python3.8/dist-packages (from torchmetrics) (1.21.6)\n",
            "Requirement already satisfied: torch>=1.8.1 in /usr/local/lib/python3.8/dist-packages (from torchmetrics) (1.12.1+cu113)\n",
            "Requirement already satisfied: typing-extensions in /usr/local/lib/python3.8/dist-packages (from torchmetrics) (4.1.1)\n",
            "Requirement already satisfied: pyparsing!=3.0.5,>=2.0.2 in /usr/local/lib/python3.8/dist-packages (from packaging->torchmetrics) (3.0.9)\n",
            "Installing collected packages: torchmetrics\n",
            "Successfully installed torchmetrics-0.11.0\n"
          ]
        }
      ]
    },
    {
      "cell_type": "code",
      "execution_count": 92,
      "metadata": {
        "id": "vuqwYeDa2DjF"
      },
      "outputs": [],
      "source": [
        "from typing import Optional\n",
        "\n",
        "from sklearn.metrics import precision_score, recall_score, f1_score\n",
        "from torch import sigmoid\n",
        "from torchmetrics import PrecisionRecallCurve\n",
        "\n",
        "def evaluate_model(\n",
        "    model: nn.Module, \n",
        "    X: torch.Tensor, \n",
        "    y: torch.Tensor, \n",
        "    loss_fn: nn.Module,\n",
        "    threshold: Optional[float]= None\n",
        ") -> Dict[str, float]:\n",
        "\n",
        "    model.eval()\n",
        "    with torch.no_grad():\n",
        "        y_pred = model.predict_proba(X)\n",
        "      \n",
        "    auroc = roc_auc_score(y, y_pred)\n",
        "    pr_curve = PrecisionRecallCurve(task=\"binary\")\n",
        "    \n",
        "    if threshold is None:\n",
        "        precisions, recalls, thresholds = pr_curve(y_pred, y)\n",
        "        _, threshold = get_optimal_threshold(precisions, recalls, thresholds)\n",
        "    \n",
        "    \n",
        "    y_pred = y_pred >= threshold\n",
        "\n",
        "    precision = precision_score(y, y_pred)\n",
        "    recall = recall_score(y, y_pred)\n",
        "\n",
        "    f1 = f1_score(y, y_pred)\n",
        "    \n",
        "    results = {\n",
        "        \"loss\": loss.item(),\n",
        "        \"AUROC\": auroc,\n",
        "        \"optimal_threshold\": threshold,\n",
        "        \"precision\": precision,\n",
        "        \"recall\": recall,\n",
        "        \"F1-score\": f1,\n",
        "    }\n",
        "    return results\n"
      ]
    },
    {
      "cell_type": "code",
      "source": [
        "print(evaluate_model(model, X_test, y_test, torch.nn.BCELoss()))"
      ],
      "metadata": {
        "colab": {
          "base_uri": "https://localhost:8080/"
        },
        "id": "dpH-bQ6Du4t8",
        "outputId": "2c7330ca-293b-4205-981a-acbc3e711bb0"
      },
      "execution_count": 70,
      "outputs": [
        {
          "output_type": "stream",
          "name": "stdout",
          "text": [
            "{'loss': 0.5480141639709473, 'AUROC': 0.8038209204308618, 'optimal_threshold': 0.3260846436023712, 'precision': 0.4990281827016521, 'recall': 0.6549744897959183, 'F1-score': 0.5664644236072807}\n"
          ]
        }
      ]
    },
    {
      "cell_type": "markdown",
      "metadata": {
        "id": "C6euzW9Q2DjF"
      },
      "source": [
        "#### Zadanie 6 (1 punkt)\n",
        "\n",
        "Zaimplementuj 3-warstwową sieć MLP z regularyzacją L2 oraz dropout (50%). Rozmiary warstw ukrytych mają wynosić 256 i 128."
      ]
    },
    {
      "cell_type": "code",
      "execution_count": 78,
      "metadata": {
        "id": "TttcGfFm2DjF"
      },
      "outputs": [],
      "source": [
        "class RegularizedMLP(nn.Module):\n",
        "    def __init__(self, input_size: int, dropout_p: float = 0.5):\n",
        "        super().__init__()\n",
        "        self.mlp =  nn.Sequential(\n",
        "          nn.Linear(input_size, 256),\n",
        "          nn.ReLU(),\n",
        "          nn.Linear(256, 128),\n",
        "          nn.ReLU(),\n",
        "          nn.Linear(128, 1)\n",
        "        ) \n",
        "        self.dropout = nn.Dropout(dropout_p)\n",
        "\n",
        "    def forward(self, x):\n",
        "        return self.mlp(x)\n",
        "\n",
        "    def predict_proba(self, x):\n",
        "        return sigmoid(self(x))\n",
        "    \n",
        "    def predict(self, x):\n",
        "        y_pred_score = self.predict_proba(x)\n",
        "        return torch.argmax(y_pred_score, dim=1)\n"
      ]
    },
    {
      "cell_type": "code",
      "source": [
        "regularized_model = RegularizedMLP(input_size=X_train.shape[1])\n",
        "l2_reg = 1e-4\n",
        "optimizer = torch.optim.SGD(regularized_model.parameters(), lr=learning_rate, weight_decay=l2_reg)"
      ],
      "metadata": {
        "id": "t7urCIoU8b81"
      },
      "execution_count": 84,
      "outputs": []
    },
    {
      "cell_type": "code",
      "source": [
        "for i in range(num_epochs):\n",
        "    y_pred = regularized_model(X_train)\n",
        "    loss = loss_fn(y_pred, y_train)\n",
        "    loss.backward()\n",
        "\n",
        "    optimizer.step()\n",
        "    optimizer.zero_grad()\n",
        "\n",
        "    if i % evaluation_steps == 0:\n",
        "        print(f\"Epoch {i} train loss: {loss.item():.4f}\")\n",
        "\n",
        "print(f\"final loss: {loss.item():.4f}\")"
      ],
      "metadata": {
        "colab": {
          "base_uri": "https://localhost:8080/"
        },
        "id": "Cms_ecCv9NFb",
        "outputId": "22196732-694b-4e3e-aee9-d9ddb5bcc58f"
      },
      "execution_count": 85,
      "outputs": [
        {
          "output_type": "stream",
          "name": "stdout",
          "text": [
            "Epoch 0 train loss: 0.6937\n",
            "Epoch 200 train loss: 0.6721\n",
            "Epoch 400 train loss: 0.6538\n",
            "Epoch 600 train loss: 0.6379\n",
            "Epoch 800 train loss: 0.6240\n",
            "Epoch 1000 train loss: 0.6118\n",
            "Epoch 1200 train loss: 0.6010\n",
            "Epoch 1400 train loss: 0.5914\n",
            "Epoch 1600 train loss: 0.5827\n",
            "Epoch 1800 train loss: 0.5750\n",
            "final loss: 0.5680\n"
          ]
        }
      ]
    },
    {
      "cell_type": "code",
      "source": [
        "print(evaluate_model(regularized_model, X_test, y_test, torch.nn.BCELoss()))"
      ],
      "metadata": {
        "colab": {
          "base_uri": "https://localhost:8080/"
        },
        "id": "mNN4_WYjAWGo",
        "outputId": "3d05ffeb-14f2-46cc-f7d6-85d455bcc7c0"
      },
      "execution_count": 87,
      "outputs": [
        {
          "output_type": "stream",
          "name": "stdout",
          "text": [
            "{'loss': 0.33281707763671875, 'AUROC': 0.7482965038897258, 'optimal_threshold': 0.3432195782661438, 'precision': 0.3813131313131313, 'recall': 0.7704081632653061, 'F1-score': 0.5101351351351352}\n"
          ]
        }
      ]
    },
    {
      "cell_type": "markdown",
      "metadata": {
        "id": "rEk9azaULAsz"
      },
      "source": [
        "Opisaliśmy wcześniej podstawowy optymalizator w sieciach neuronowych - spadek wzdłuż gradientu. Jednak wymaga on użycia całego zbioru danych, aby obliczyć gradient, co jest często niewykonalne przez rozmiar zbioru. Dlatego wymyślono **stochastyczny spadek wzdłuż gradientu (stochastic gradient descent, SGD)**, w którym używamy 1 przykładu naraz, liczymy gradient tylko po nim i aktualizujemy parametry. Jest to oczywiście dość grube przybliżenie gradientu, ale pozwala robić szybko dużo małych kroków. Kompromisem, którego używa się w praktyce, jest **minibatch gradient descent**, czyli używanie batchy np. 32, 64 czy 128 przykładów.\n",
        "\n",
        "Rzadko wspominanym, a ważnym faktem jest także to, że stochastyczność metody optymalizacji jest sama w sobie też [metodą regularyzacji](https://arxiv.org/abs/2101.12176), a więc `batch_size` to także hiperparametr.\n",
        "\n",
        "Obecnie najpopularniejszą odmianą SGD jest [Adam](https://arxiv.org/abs/1412.6980), gdyż uczy on szybko sieć oraz daje bardzo dobre wyniki nawet przy niekoniecznie idealnie dobranych hiperparametrach. W PyTorchu najlepiej korzystać z jego implementacji `AdamW`, która jest nieco lepsza niż implementacja `Adam`. Jest to zasadniczo zawsze wybór domyślny przy treningu współczesnych sieci neuronowych.\n",
        "\n",
        "Na razie użyjemy jednak minibatch SGD."
      ]
    },
    {
      "cell_type": "markdown",
      "metadata": {
        "id": "qazdhQ9t2DjG"
      },
      "source": [
        "Poniżej znajduje się implementacja prostej klasy dziedziczącej po `Dataset` - tak w PyTorchu implementuje się własne zbiory danych. Użycie takich klas umożliwia użycie klas ładujących dane (`DataLoader`), które z kolei pozwalają łatwo ładować batche danych. Trzeba w takiej klasie zaimplementować metody:\n",
        "- `__len__` - zwraca ilość punktów w zbiorze\n",
        "- `__getitem__` - zwraca przykład ze zbioru pod danym indeksem oraz jego klasę\n"
      ]
    },
    {
      "cell_type": "code",
      "execution_count": 83,
      "metadata": {
        "id": "QxP3QEbs2DjG"
      },
      "outputs": [],
      "source": [
        "from torch.utils.data import Dataset\n",
        "\n",
        "class MyDataset(Dataset):\n",
        "    def __init__(self, data, y):\n",
        "        super().__init__()\n",
        "        \n",
        "        self.data = data\n",
        "        self.y = y\n",
        "    \n",
        "    def __len__(self):\n",
        "        return self.data.shape[0]\n",
        "    \n",
        "    def __getitem__(self, idx):\n",
        "        return self.data[idx], self.y[idx]\n"
      ]
    },
    {
      "cell_type": "markdown",
      "metadata": {
        "id": "2e4mBaA72DjG"
      },
      "source": [
        "#### Zadanie 7 (2 punkty)\n",
        "\n",
        "Zaimplementuj pętlę treningowo-walidacyjną dla sieci neuronowej. Wykorzystaj podane wartości hiperparametrów do treningu (stała ucząca, prawdopodobieństwo dropoutu, regularyzacja L2, rozmiar batcha, maksymalna liczba epok). Użyj optymalizatora SGD.\n",
        "\n",
        "Dodatkowo zaimplementuj regularyzację przez early stopping. Sprawdzaj co epokę wynik na zbiorze walidacyjnym. Użyj podanej wartości patience, a jako metryki po prostu wartości funkcji kosztu. Może się tutaj przydać zaimplementowana funkcja `evaluate_model()`.\n",
        "\n",
        "Pamiętaj o tym, aby przechowywać najlepszy dotychczasowy wynik walidacyjny oraz najlepszy dotychczasowy model. Zapamiętaj też optymalny próg do klasyfikacji dla najlepszego modelu."
      ]
    },
    {
      "cell_type": "code",
      "execution_count": 82,
      "metadata": {
        "id": "xE9uvIlY2DjG"
      },
      "outputs": [],
      "source": [
        "from copy import deepcopy\n",
        "\n",
        "from torch.utils.data import DataLoader\n",
        "\n",
        "\n",
        "learning_rate = 1e-3\n",
        "dropout_p = 0.5\n",
        "l2_reg = 1e-4\n",
        "batch_size = 128\n",
        "max_epochs = 300\n",
        "\n",
        "early_stopping_patience = 4"
      ]
    },
    {
      "cell_type": "code",
      "execution_count": 90,
      "metadata": {
        "scrolled": true,
        "id": "gk4YLmAt2DjH",
        "colab": {
          "base_uri": "https://localhost:8080/"
        },
        "outputId": "9f01ac70-a82a-40d7-cab5-ea2ecc51c17a"
      },
      "outputs": [
        {
          "output_type": "stream",
          "name": "stdout",
          "text": [
            "Epoch 0 train loss: 0.6517, eval loss 0.651724100112915\n",
            "Epoch 1 train loss: 0.6359, eval loss 0.6358595490455627\n",
            "Epoch 2 train loss: 0.6216, eval loss 0.6215616464614868\n",
            "Epoch 3 train loss: 0.6086, eval loss 0.6086274981498718\n",
            "Epoch 4 train loss: 0.5969, eval loss 0.5968654751777649\n",
            "Epoch 5 train loss: 0.5861, eval loss 0.5861343145370483\n",
            "Epoch 6 train loss: 0.5763, eval loss 0.5763318538665771\n",
            "Epoch 7 train loss: 0.5674, eval loss 0.5673999190330505\n",
            "Epoch 8 train loss: 0.5592, eval loss 0.5592466592788696\n",
            "Epoch 9 train loss: 0.5518, eval loss 0.5517861843109131\n",
            "Epoch 10 train loss: 0.5449, eval loss 0.5449383854866028\n",
            "Epoch 11 train loss: 0.5386, eval loss 0.5386301875114441\n",
            "Epoch 12 train loss: 0.5328, eval loss 0.5328042507171631\n",
            "Epoch 13 train loss: 0.5274, eval loss 0.5273818969726562\n",
            "Epoch 14 train loss: 0.5223, eval loss 0.522295355796814\n",
            "Epoch 15 train loss: 0.5175, eval loss 0.5174944996833801\n",
            "Epoch 16 train loss: 0.5129, eval loss 0.5129148364067078\n",
            "Epoch 17 train loss: 0.5085, eval loss 0.5085154175758362\n",
            "Epoch 18 train loss: 0.5043, eval loss 0.5042555928230286\n",
            "Epoch 19 train loss: 0.5001, eval loss 0.5001092553138733\n",
            "Epoch 20 train loss: 0.4960, eval loss 0.4960482120513916\n",
            "Epoch 21 train loss: 0.4921, eval loss 0.4920567572116852\n",
            "Epoch 22 train loss: 0.4881, eval loss 0.4881119132041931\n",
            "Epoch 23 train loss: 0.4842, eval loss 0.4842027425765991\n",
            "Epoch 24 train loss: 0.4803, eval loss 0.480312317609787\n",
            "Epoch 25 train loss: 0.4764, eval loss 0.47641927003860474\n",
            "Epoch 26 train loss: 0.4725, eval loss 0.4725436270236969\n",
            "Epoch 27 train loss: 0.4687, eval loss 0.4686948359012604\n",
            "Epoch 28 train loss: 0.4649, eval loss 0.46487584710121155\n",
            "Epoch 29 train loss: 0.4611, eval loss 0.4610983431339264\n",
            "Epoch 30 train loss: 0.4574, eval loss 0.4573545753955841\n",
            "Epoch 31 train loss: 0.4537, eval loss 0.4536597430706024\n",
            "Epoch 32 train loss: 0.4500, eval loss 0.45001766085624695\n",
            "Epoch 33 train loss: 0.4464, eval loss 0.4464438557624817\n",
            "Epoch 34 train loss: 0.4430, eval loss 0.44297587871551514\n",
            "Epoch 35 train loss: 0.4396, eval loss 0.4396352171897888\n",
            "Epoch 36 train loss: 0.4364, eval loss 0.43640121817588806\n",
            "Epoch 37 train loss: 0.4333, eval loss 0.4332737624645233\n",
            "Epoch 38 train loss: 0.4303, eval loss 0.43025797605514526\n",
            "Epoch 39 train loss: 0.4273, eval loss 0.4273254871368408\n",
            "Epoch 40 train loss: 0.4245, eval loss 0.424488365650177\n",
            "Epoch 41 train loss: 0.4217, eval loss 0.4217427670955658\n",
            "Epoch 42 train loss: 0.4191, eval loss 0.4191080331802368\n",
            "Epoch 43 train loss: 0.4166, eval loss 0.4165799021720886\n",
            "Epoch 44 train loss: 0.4141, eval loss 0.41414961218833923\n",
            "Epoch 45 train loss: 0.4118, eval loss 0.4118204414844513\n",
            "Epoch 46 train loss: 0.4096, eval loss 0.409597784280777\n",
            "Epoch 47 train loss: 0.4075, eval loss 0.4075029790401459\n",
            "Epoch 48 train loss: 0.4055, eval loss 0.40551748871803284\n",
            "Epoch 49 train loss: 0.4036, eval loss 0.4036344885826111\n",
            "Epoch 50 train loss: 0.4019, eval loss 0.4018518030643463\n",
            "Epoch 51 train loss: 0.4002, eval loss 0.40016788244247437\n",
            "Epoch 52 train loss: 0.3986, eval loss 0.3985733687877655\n",
            "Epoch 53 train loss: 0.3971, eval loss 0.3970702588558197\n",
            "Epoch 54 train loss: 0.3957, eval loss 0.3956663906574249\n",
            "Epoch 55 train loss: 0.3944, eval loss 0.39435064792633057\n",
            "Epoch 56 train loss: 0.3931, eval loss 0.39311736822128296\n",
            "Epoch 57 train loss: 0.3920, eval loss 0.39195486903190613\n",
            "Epoch 58 train loss: 0.3909, eval loss 0.39086219668388367\n",
            "Epoch 59 train loss: 0.3898, eval loss 0.3898383378982544\n",
            "Epoch 60 train loss: 0.3889, eval loss 0.388884037733078\n",
            "Epoch 61 train loss: 0.3880, eval loss 0.38799136877059937\n",
            "Epoch 62 train loss: 0.3872, eval loss 0.387159526348114\n",
            "Epoch 63 train loss: 0.3864, eval loss 0.3863833546638489\n",
            "Epoch 64 train loss: 0.3857, eval loss 0.3856610357761383\n",
            "Epoch 65 train loss: 0.3850, eval loss 0.38498440384864807\n",
            "Epoch 66 train loss: 0.3843, eval loss 0.38434985280036926\n",
            "Epoch 67 train loss: 0.3838, eval loss 0.3837563395500183\n",
            "Epoch 68 train loss: 0.3832, eval loss 0.38319823145866394\n",
            "Epoch 69 train loss: 0.3827, eval loss 0.3826729357242584\n",
            "Epoch 70 train loss: 0.3822, eval loss 0.38217705488204956\n",
            "Epoch 71 train loss: 0.3817, eval loss 0.3817075788974762\n",
            "Epoch 72 train loss: 0.3813, eval loss 0.38126182556152344\n",
            "Epoch 73 train loss: 0.3808, eval loss 0.38083967566490173\n",
            "Epoch 74 train loss: 0.3804, eval loss 0.3804393708705902\n",
            "Epoch 75 train loss: 0.3801, eval loss 0.38005465269088745\n",
            "Epoch 76 train loss: 0.3797, eval loss 0.3796864449977875\n",
            "Epoch 77 train loss: 0.3793, eval loss 0.3793278932571411\n",
            "Epoch 78 train loss: 0.3790, eval loss 0.3789816200733185\n",
            "Epoch 79 train loss: 0.3786, eval loss 0.3786442279815674\n",
            "Epoch 80 train loss: 0.3783, eval loss 0.378310889005661\n",
            "Epoch 81 train loss: 0.3780, eval loss 0.37798526883125305\n",
            "Epoch 82 train loss: 0.3777, eval loss 0.377661794424057\n",
            "Epoch 83 train loss: 0.3773, eval loss 0.37734636664390564\n",
            "Epoch 84 train loss: 0.3770, eval loss 0.37703484296798706\n",
            "Epoch 85 train loss: 0.3767, eval loss 0.3767273426055908\n",
            "Epoch 86 train loss: 0.3764, eval loss 0.376422256231308\n",
            "Epoch 87 train loss: 0.3761, eval loss 0.37611404061317444\n",
            "Epoch 88 train loss: 0.3758, eval loss 0.3758096992969513\n",
            "Epoch 89 train loss: 0.3755, eval loss 0.3755127787590027\n",
            "Epoch 90 train loss: 0.3752, eval loss 0.37522071599960327\n",
            "Epoch 91 train loss: 0.3749, eval loss 0.3749324679374695\n",
            "Epoch 92 train loss: 0.3746, eval loss 0.37464699149131775\n",
            "Epoch 93 train loss: 0.3744, eval loss 0.3743627667427063\n",
            "Epoch 94 train loss: 0.3741, eval loss 0.37407612800598145\n",
            "Epoch 95 train loss: 0.3738, eval loss 0.37379205226898193\n",
            "Epoch 96 train loss: 0.3735, eval loss 0.37350451946258545\n",
            "Epoch 97 train loss: 0.3732, eval loss 0.373220831155777\n",
            "Epoch 98 train loss: 0.3729, eval loss 0.3729404807090759\n",
            "Epoch 99 train loss: 0.3727, eval loss 0.37266024947166443\n",
            "Epoch 100 train loss: 0.3724, eval loss 0.3723834455013275\n",
            "Epoch 101 train loss: 0.3721, eval loss 0.3721104860305786\n",
            "Epoch 102 train loss: 0.3718, eval loss 0.3718377947807312\n",
            "Epoch 103 train loss: 0.3716, eval loss 0.3715693950653076\n",
            "Epoch 104 train loss: 0.3713, eval loss 0.3713033199310303\n",
            "Epoch 105 train loss: 0.3710, eval loss 0.371036559343338\n",
            "Epoch 106 train loss: 0.3708, eval loss 0.3707718253135681\n",
            "Epoch 107 train loss: 0.3705, eval loss 0.37051084637641907\n",
            "Epoch 108 train loss: 0.3703, eval loss 0.37025579810142517\n",
            "Epoch 109 train loss: 0.3700, eval loss 0.37000271677970886\n",
            "Epoch 110 train loss: 0.3697, eval loss 0.36973142623901367\n",
            "Epoch 111 train loss: 0.3694, eval loss 0.3694491386413574\n",
            "Epoch 112 train loss: 0.3692, eval loss 0.36916419863700867\n",
            "Epoch 113 train loss: 0.3689, eval loss 0.3688738942146301\n",
            "Epoch 114 train loss: 0.3686, eval loss 0.3685781955718994\n",
            "Epoch 115 train loss: 0.3683, eval loss 0.3682888150215149\n",
            "Epoch 116 train loss: 0.3680, eval loss 0.3680060803890228\n",
            "Epoch 117 train loss: 0.3677, eval loss 0.3677263855934143\n",
            "Epoch 118 train loss: 0.3674, eval loss 0.36744216084480286\n",
            "Epoch 119 train loss: 0.3672, eval loss 0.3671574294567108\n",
            "Epoch 120 train loss: 0.3669, eval loss 0.36687156558036804\n",
            "Epoch 121 train loss: 0.3666, eval loss 0.36658260226249695\n",
            "Epoch 122 train loss: 0.3663, eval loss 0.36629006266593933\n",
            "Epoch 123 train loss: 0.3660, eval loss 0.365997850894928\n",
            "Epoch 124 train loss: 0.3657, eval loss 0.36570611596107483\n",
            "Epoch 125 train loss: 0.3654, eval loss 0.3654142916202545\n",
            "Epoch 126 train loss: 0.3651, eval loss 0.36512860655784607\n",
            "Epoch 127 train loss: 0.3648, eval loss 0.36484676599502563\n",
            "Epoch 128 train loss: 0.3646, eval loss 0.36456623673439026\n",
            "Epoch 129 train loss: 0.3643, eval loss 0.3642783761024475\n",
            "Epoch 130 train loss: 0.3640, eval loss 0.3639909327030182\n",
            "Epoch 131 train loss: 0.3637, eval loss 0.36370792984962463\n",
            "Epoch 132 train loss: 0.3634, eval loss 0.36343711614608765\n",
            "Epoch 133 train loss: 0.3632, eval loss 0.36317431926727295\n",
            "Epoch 134 train loss: 0.3629, eval loss 0.3629167079925537\n",
            "Epoch 135 train loss: 0.3627, eval loss 0.36266449093818665\n",
            "Epoch 136 train loss: 0.3624, eval loss 0.36241328716278076\n",
            "Epoch 137 train loss: 0.3622, eval loss 0.36216530203819275\n",
            "Epoch 138 train loss: 0.3619, eval loss 0.3619123697280884\n",
            "Epoch 139 train loss: 0.3617, eval loss 0.36165985465049744\n",
            "Epoch 140 train loss: 0.3614, eval loss 0.36141276359558105\n",
            "Epoch 141 train loss: 0.3612, eval loss 0.36116957664489746\n",
            "Epoch 142 train loss: 0.3609, eval loss 0.36092814803123474\n",
            "Epoch 143 train loss: 0.3607, eval loss 0.3606889843940735\n",
            "Epoch 144 train loss: 0.3604, eval loss 0.3604494333267212\n",
            "Epoch 145 train loss: 0.3602, eval loss 0.36021536588668823\n",
            "Epoch 146 train loss: 0.3600, eval loss 0.35998061299324036\n",
            "Epoch 147 train loss: 0.3597, eval loss 0.35974887013435364\n",
            "Epoch 148 train loss: 0.3595, eval loss 0.35951852798461914\n",
            "Epoch 149 train loss: 0.3593, eval loss 0.35928991436958313\n",
            "Epoch 150 train loss: 0.3591, eval loss 0.3590667247772217\n",
            "Epoch 151 train loss: 0.3588, eval loss 0.3588467836380005\n",
            "Epoch 152 train loss: 0.3586, eval loss 0.35862740874290466\n",
            "Epoch 153 train loss: 0.3584, eval loss 0.3584078848361969\n",
            "Epoch 154 train loss: 0.3582, eval loss 0.3581891655921936\n",
            "Epoch 155 train loss: 0.3580, eval loss 0.3579762876033783\n",
            "Epoch 156 train loss: 0.3578, eval loss 0.35776346921920776\n",
            "Epoch 157 train loss: 0.3576, eval loss 0.35755056142807007\n",
            "Epoch 158 train loss: 0.3573, eval loss 0.3573401868343353\n",
            "Epoch 159 train loss: 0.3571, eval loss 0.3571327328681946\n",
            "Epoch 160 train loss: 0.3569, eval loss 0.35692861676216125\n",
            "Epoch 161 train loss: 0.3567, eval loss 0.356726735830307\n",
            "Epoch 162 train loss: 0.3565, eval loss 0.35652706027030945\n",
            "Epoch 163 train loss: 0.3563, eval loss 0.35632970929145813\n",
            "Epoch 164 train loss: 0.3561, eval loss 0.35613328218460083\n",
            "Epoch 165 train loss: 0.3559, eval loss 0.3559373915195465\n",
            "Epoch 166 train loss: 0.3557, eval loss 0.3557433784008026\n",
            "Epoch 167 train loss: 0.3556, eval loss 0.3555543124675751\n",
            "Epoch 168 train loss: 0.3554, eval loss 0.35536283254623413\n",
            "Epoch 169 train loss: 0.3552, eval loss 0.3551728427410126\n",
            "Epoch 170 train loss: 0.3550, eval loss 0.35498371720314026\n",
            "Epoch 171 train loss: 0.3548, eval loss 0.3548002541065216\n",
            "Epoch 172 train loss: 0.3546, eval loss 0.35461780428886414\n",
            "Epoch 173 train loss: 0.3544, eval loss 0.35443803668022156\n",
            "Epoch 174 train loss: 0.3543, eval loss 0.3542613983154297\n",
            "Epoch 175 train loss: 0.3541, eval loss 0.3540858328342438\n",
            "Epoch 176 train loss: 0.3539, eval loss 0.35391107201576233\n",
            "Epoch 177 train loss: 0.3537, eval loss 0.3537346422672272\n",
            "Epoch 178 train loss: 0.3536, eval loss 0.3535611033439636\n",
            "Epoch 179 train loss: 0.3534, eval loss 0.3533882200717926\n",
            "Epoch 180 train loss: 0.3532, eval loss 0.3532167971134186\n",
            "Epoch 181 train loss: 0.3530, eval loss 0.3530499339103699\n",
            "Epoch 182 train loss: 0.3529, eval loss 0.3528859615325928\n",
            "Epoch 183 train loss: 0.3527, eval loss 0.3527229428291321\n",
            "Epoch 184 train loss: 0.3526, eval loss 0.35255709290504456\n",
            "Epoch 185 train loss: 0.3524, eval loss 0.3523953855037689\n",
            "Epoch 186 train loss: 0.3522, eval loss 0.35223403573036194\n",
            "Epoch 187 train loss: 0.3521, eval loss 0.35207217931747437\n",
            "Epoch 188 train loss: 0.3519, eval loss 0.3519138693809509\n",
            "Epoch 189 train loss: 0.3518, eval loss 0.3517570495605469\n",
            "Epoch 190 train loss: 0.3516, eval loss 0.35159963369369507\n",
            "Epoch 191 train loss: 0.3514, eval loss 0.3514464199542999\n",
            "Epoch 192 train loss: 0.3513, eval loss 0.351296603679657\n",
            "Epoch 193 train loss: 0.3511, eval loss 0.3511466979980469\n",
            "Epoch 194 train loss: 0.3510, eval loss 0.35099953413009644\n",
            "Epoch 195 train loss: 0.3509, eval loss 0.35085511207580566\n",
            "Epoch 196 train loss: 0.3507, eval loss 0.35070639848709106\n",
            "Epoch 197 train loss: 0.3506, eval loss 0.35056158900260925\n",
            "Epoch 198 train loss: 0.3504, eval loss 0.3504207134246826\n",
            "Epoch 199 train loss: 0.3503, eval loss 0.35028067231178284\n",
            "Epoch 200 train loss: 0.3501, eval loss 0.35013842582702637\n",
            "Epoch 201 train loss: 0.3500, eval loss 0.3499964475631714\n",
            "Epoch 202 train loss: 0.3499, eval loss 0.34985464811325073\n",
            "Epoch 203 train loss: 0.3497, eval loss 0.349716454744339\n",
            "Epoch 204 train loss: 0.3496, eval loss 0.34958145022392273\n",
            "Epoch 205 train loss: 0.3494, eval loss 0.349447101354599\n",
            "Epoch 206 train loss: 0.3493, eval loss 0.34931591153144836\n",
            "Epoch 207 train loss: 0.3492, eval loss 0.3491881191730499\n",
            "Epoch 208 train loss: 0.3491, eval loss 0.34906092286109924\n",
            "Epoch 209 train loss: 0.3489, eval loss 0.3489364981651306\n",
            "Epoch 210 train loss: 0.3488, eval loss 0.3488163948059082\n",
            "Epoch 211 train loss: 0.3487, eval loss 0.34869712591171265\n",
            "Epoch 212 train loss: 0.3486, eval loss 0.34857550263404846\n",
            "Epoch 213 train loss: 0.3485, eval loss 0.3484531342983246\n",
            "Epoch 214 train loss: 0.3483, eval loss 0.34833258390426636\n",
            "Epoch 215 train loss: 0.3482, eval loss 0.3482135236263275\n",
            "Epoch 216 train loss: 0.3481, eval loss 0.3480969965457916\n",
            "Epoch 217 train loss: 0.3480, eval loss 0.3479807376861572\n",
            "Epoch 218 train loss: 0.3479, eval loss 0.34786826372146606\n",
            "Epoch 219 train loss: 0.3478, eval loss 0.34775617718696594\n",
            "Epoch 220 train loss: 0.3476, eval loss 0.34764155745506287\n",
            "Epoch 221 train loss: 0.3475, eval loss 0.3475300669670105\n",
            "Epoch 222 train loss: 0.3474, eval loss 0.3474188446998596\n",
            "Epoch 223 train loss: 0.3473, eval loss 0.3473086357116699\n",
            "Epoch 224 train loss: 0.3472, eval loss 0.34719720482826233\n",
            "Epoch 225 train loss: 0.3471, eval loss 0.34708714485168457\n",
            "Epoch 226 train loss: 0.3470, eval loss 0.3469768166542053\n",
            "Epoch 227 train loss: 0.3469, eval loss 0.3468678295612335\n",
            "Epoch 228 train loss: 0.3468, eval loss 0.34675857424736023\n",
            "Epoch 229 train loss: 0.3467, eval loss 0.34665000438690186\n",
            "Epoch 230 train loss: 0.3465, eval loss 0.3465423583984375\n",
            "Epoch 231 train loss: 0.3464, eval loss 0.34643614292144775\n",
            "Epoch 232 train loss: 0.3463, eval loss 0.3463291525840759\n",
            "Epoch 233 train loss: 0.3462, eval loss 0.34622281789779663\n",
            "Epoch 234 train loss: 0.3461, eval loss 0.3461167514324188\n",
            "Epoch 235 train loss: 0.3460, eval loss 0.34601283073425293\n",
            "Epoch 236 train loss: 0.3459, eval loss 0.34590935707092285\n",
            "Epoch 237 train loss: 0.3458, eval loss 0.34580743312835693\n",
            "Epoch 238 train loss: 0.3457, eval loss 0.345706969499588\n",
            "Epoch 239 train loss: 0.3456, eval loss 0.34560808539390564\n",
            "Epoch 240 train loss: 0.3455, eval loss 0.3455106317996979\n",
            "Epoch 241 train loss: 0.3454, eval loss 0.34541311860084534\n",
            "Epoch 242 train loss: 0.3453, eval loss 0.3453185260295868\n",
            "Epoch 243 train loss: 0.3452, eval loss 0.34522557258605957\n",
            "Epoch 244 train loss: 0.3451, eval loss 0.345132976770401\n",
            "Epoch 245 train loss: 0.3450, eval loss 0.3450424373149872\n",
            "Epoch 246 train loss: 0.3450, eval loss 0.3449520766735077\n",
            "Epoch 247 train loss: 0.3449, eval loss 0.34486111998558044\n",
            "Epoch 248 train loss: 0.3448, eval loss 0.34477055072784424\n",
            "Epoch 249 train loss: 0.3447, eval loss 0.3446830213069916\n",
            "Epoch 250 train loss: 0.3446, eval loss 0.3445952534675598\n",
            "Epoch 251 train loss: 0.3445, eval loss 0.34451040625572205\n",
            "Epoch 252 train loss: 0.3444, eval loss 0.34442684054374695\n",
            "Epoch 253 train loss: 0.3443, eval loss 0.34434226155281067\n",
            "Epoch 254 train loss: 0.3443, eval loss 0.3442609906196594\n",
            "Epoch 255 train loss: 0.3442, eval loss 0.3441804349422455\n",
            "Epoch 256 train loss: 0.3441, eval loss 0.3440985679626465\n",
            "Epoch 257 train loss: 0.3440, eval loss 0.34401795268058777\n",
            "Epoch 258 train loss: 0.3439, eval loss 0.34393763542175293\n",
            "Epoch 259 train loss: 0.3439, eval loss 0.34385988116264343\n",
            "Epoch 260 train loss: 0.3438, eval loss 0.34378358721733093\n",
            "Epoch 261 train loss: 0.3437, eval loss 0.3437063992023468\n",
            "Epoch 262 train loss: 0.3436, eval loss 0.3436306118965149\n",
            "Epoch 263 train loss: 0.3436, eval loss 0.34355589747428894\n",
            "Epoch 264 train loss: 0.3435, eval loss 0.3434809148311615\n",
            "Epoch 265 train loss: 0.3434, eval loss 0.3434045910835266\n",
            "Epoch 266 train loss: 0.3433, eval loss 0.3433286249637604\n",
            "Epoch 267 train loss: 0.3433, eval loss 0.3432539403438568\n",
            "Epoch 268 train loss: 0.3432, eval loss 0.34318119287490845\n",
            "Epoch 269 train loss: 0.3431, eval loss 0.3431083858013153\n",
            "Epoch 270 train loss: 0.3430, eval loss 0.34303680062294006\n",
            "Epoch 271 train loss: 0.3430, eval loss 0.3429650366306305\n",
            "Epoch 272 train loss: 0.3429, eval loss 0.34289154410362244\n",
            "Epoch 273 train loss: 0.3428, eval loss 0.3428201377391815\n",
            "Epoch 274 train loss: 0.3428, eval loss 0.34275269508361816\n",
            "Epoch 275 train loss: 0.3427, eval loss 0.3426826000213623\n",
            "Epoch 276 train loss: 0.3426, eval loss 0.3426153063774109\n",
            "Epoch 277 train loss: 0.3425, eval loss 0.3425486087799072\n",
            "Epoch 278 train loss: 0.3425, eval loss 0.3424835205078125\n",
            "Epoch 279 train loss: 0.3424, eval loss 0.3424195647239685\n",
            "Epoch 280 train loss: 0.3424, eval loss 0.3423568904399872\n",
            "Epoch 281 train loss: 0.3423, eval loss 0.3422940671443939\n",
            "Epoch 282 train loss: 0.3422, eval loss 0.34223178029060364\n",
            "Epoch 283 train loss: 0.3422, eval loss 0.34217292070388794\n",
            "Epoch 284 train loss: 0.3421, eval loss 0.3421112596988678\n",
            "Epoch 285 train loss: 0.3420, eval loss 0.3420470058917999\n",
            "Epoch 286 train loss: 0.3420, eval loss 0.3419851064682007\n",
            "Epoch 287 train loss: 0.3419, eval loss 0.34192395210266113\n",
            "Epoch 288 train loss: 0.3419, eval loss 0.3418644070625305\n",
            "Epoch 289 train loss: 0.3418, eval loss 0.341805100440979\n",
            "Epoch 290 train loss: 0.3417, eval loss 0.34174513816833496\n",
            "Epoch 291 train loss: 0.3417, eval loss 0.3416889011859894\n",
            "Epoch 292 train loss: 0.3416, eval loss 0.341632604598999\n",
            "Epoch 293 train loss: 0.3416, eval loss 0.34157755970954895\n",
            "Epoch 294 train loss: 0.3415, eval loss 0.3415219783782959\n",
            "Epoch 295 train loss: 0.3415, eval loss 0.3414648473262787\n",
            "Epoch 296 train loss: 0.3414, eval loss 0.3414115011692047\n",
            "Epoch 297 train loss: 0.3414, eval loss 0.3413587212562561\n",
            "Epoch 298 train loss: 0.3413, eval loss 0.3413065969944\n",
            "Epoch 299 train loss: 0.3413, eval loss 0.34125640988349915\n"
          ]
        }
      ],
      "source": [
        "model = RegularizedMLP(\n",
        "    input_size=X_train.shape[1], \n",
        "    dropout_p=dropout_p\n",
        ")\n",
        "optimizer = torch.optim.SGD(\n",
        "    model.parameters(), \n",
        "    lr=learning_rate, \n",
        "    weight_decay=l2_reg\n",
        ")\n",
        "loss_fn = torch.nn.BCEWithLogitsLoss()\n",
        "\n",
        "train_dataset = MyDataset(X_train, y_train)\n",
        "train_dataloader = DataLoader(train_dataset, batch_size=batch_size)\n",
        "\n",
        "steps_without_improvement = 0\n",
        "\n",
        "best_val_loss = np.inf\n",
        "best_model = None\n",
        "best_threshold = None\n",
        "\n",
        "for epoch_num in range(max_epochs):\n",
        "    model.train()\n",
        "    \n",
        "    # note that we are using DataLoader to get batches\n",
        "    for X_batch, y_batch in train_dataloader:\n",
        "        y_pred = model(X_batch)\n",
        "\n",
        "        loss = loss_fn(y_pred, y_batch)\n",
        "        loss.backward()\n",
        "\n",
        "        optimizer.step()\n",
        "        optimizer.zero_grad()\n",
        "    \n",
        "    # model evaluation, early stopping\n",
        "    # implement me!\n",
        "    model.eval()\n",
        "    valid_metrics = evaluate_model(model, X_valid, y_valid, loss_fn)\n",
        "    if loss < best_val_loss:\n",
        "        best_val_loss = loss\n",
        "        best_model = model\n",
        "        best_threshold = valid_metrics[\"optimal_threshold\"]\n",
        "    else:\n",
        "        steps_without_improvement += 1\n",
        "        if steps_without_improvement == early_stopping_patience:\n",
        "            break\n",
        "    \n",
        "    print(f\"Epoch {epoch_num} train loss: {loss.item():.4f}, eval loss {valid_metrics['loss']}\")\n"
      ]
    },
    {
      "cell_type": "code",
      "execution_count": 93,
      "metadata": {
        "id": "8tgUUSMZ2DjH",
        "colab": {
          "base_uri": "https://localhost:8080/"
        },
        "outputId": "dcf9e3de-2352-4adc-ec37-db564739682d"
      },
      "outputs": [
        {
          "output_type": "stream",
          "name": "stdout",
          "text": [
            "AUROC: 90.49%\n",
            "F1: 68.69%\n",
            "Precision: 58.92%\n",
            "Recall: 82.33%\n"
          ]
        }
      ],
      "source": [
        "test_metrics = evaluate_model(best_model, X_test, y_test, loss_fn, best_threshold)\n",
        "\n",
        "print(f\"AUROC: {100 * test_metrics['AUROC']:.2f}%\")\n",
        "print(f\"F1: {100 * test_metrics['F1-score']:.2f}%\")\n",
        "print(f\"Precision: {100 * test_metrics['precision']:.2f}%\")\n",
        "print(f\"Recall: {100 * test_metrics['recall']:.2f}%\")"
      ]
    },
    {
      "cell_type": "markdown",
      "metadata": {
        "id": "nyhpqM1Q2DjH"
      },
      "source": [
        "Wyniki wyglądają już dużo lepiej.\n",
        "\n",
        "Na koniec laboratorium dołożymy do naszego modelu jeszcze 3 powrzechnie używane techniki, które są bardzo proste, a pozwalają często ulepszyć wynik modelu.\n",
        "\n",
        "Pierwszą z nich są **warstwy normalizacji (normalization layers)**. Powstały one początkowo z założeniem, że przez przekształcenia przestrzeni dokonywane przez sieć zmienia się rozkład prawdopodobieństw pomiędzy warstwami, czyli tzw. *internal covariate shift*. Później okazało się, że zastosowanie takiej normalizacji wygładza powierzchnię funkcji kosztu, co ułatwia i przyspiesza optymalizację. Najpowszechniej używaną normalizacją jest **batch normalization (batch norm)**.\n",
        "\n",
        "Drugim ulepszeniem jest dodanie **wag klas (class weights)**. Mamy do czynienia z problemem klasyfikacji niezbalansowanej, więc klasa mniejszościowa, ważniejsza dla nas, powinna dostać większą wagę. Implementuje się to trywialnie prosto - po prostu mnożymy wartość funkcji kosztu dla danego przykładu przez wagę dla prawdziwej klasy tego przykładu. Praktycznie każdy klasyfikator operujący na jakiejś ważonej funkcji może działać w ten sposób, nie tylko sieci neuronowe.\n",
        "\n",
        "Ostatnim ulepszeniem jest zamiana SGD na optymalizator Adam, a konkretnie na optymalizator `AdamW`. Jest to przykład **optymalizatora adaptacyjnego (adaptive optimizer)**, który potrafi zaadaptować stałą uczącą dla każdego parametru z osobna w trakcie treningu. Wykorzystuje do tego gradienty - w uproszczeniu, im większa wariancja gradientu, tym mniejsze kroki w tym kierunku robimy."
      ]
    },
    {
      "cell_type": "markdown",
      "metadata": {
        "id": "6zXpZGyh2DjH"
      },
      "source": [
        "#### Zadanie 8 (1 punkt)\n",
        "\n",
        "Zaimplementuj model `NormalizingMLP`, o takiej samej strukturze jak `RegularizedMLP`, ale dodatkowo z warstwami `BatchNorm1d` pomiędzy warstwami `Linear` oraz `ReLU`.\n",
        "\n",
        "Za pomocą funkcji `compute_class_weight()` oblicz wagi dla poszczególnych klas. Użyj opcji `\"balanced\"`. Przekaż do funkcji kosztu wagę klasy pozytywnej (pamiętaj, aby zamienić ją na tensor).\n",
        "\n",
        "Zamień używany optymalizator na `AdamW`.\n",
        "\n",
        "Na koniec skopiuj resztę kodu do treningu z poprzedniego zadania, wytrenuj sieć i oblicz wyniki na zbiorze testowym."
      ]
    },
    {
      "cell_type": "code",
      "execution_count": 139,
      "metadata": {
        "id": "tyOILTIo2DjH"
      },
      "outputs": [],
      "source": [
        "class NormalizingMLP(nn.Module):\n",
        "    def __init__(self, input_size: int, dropout_p: float = 0.5):\n",
        "        super().__init__()\n",
        "\n",
        "        self.mlp = nn.Sequential(\n",
        "          nn.Linear(input_size, 256),\n",
        "          nn.BatchNorm1d(256),\n",
        "          nn.ReLU(),\n",
        "          nn.Linear(256, 128),\n",
        "          nn.BatchNorm1d(128),\n",
        "          nn.ReLU(),\n",
        "          nn.Linear(128, 1)\n",
        "        ) \n",
        "        self.dropout = nn.Dropout(dropout_p)\n",
        "    \n",
        "    def forward(self, x):\n",
        "         return self.mlp(x)\n",
        "\n",
        "    def predict_proba(self, x):\n",
        "        return sigmoid(self(x))\n",
        "    \n",
        "    def predict(self, x):\n",
        "        y_pred_score = self.predict_proba(x)\n",
        "        return torch.argmax(y_pred_score, dim=1)\n"
      ]
    },
    {
      "cell_type": "code",
      "execution_count": 140,
      "metadata": {
        "id": "CXD94ynY2DjI",
        "colab": {
          "base_uri": "https://localhost:8080/"
        },
        "outputId": "ae6d8a89-9e56-46c7-ff62-62137e80192d"
      },
      "outputs": [
        {
          "output_type": "stream",
          "name": "stdout",
          "text": [
            "[0. 0. 0. ... 1. 1. 0.]\n",
            "[0. 1.]\n"
          ]
        }
      ],
      "source": [
        "from sklearn.utils.class_weight import compute_class_weight\n",
        "curr_y_train = []\n",
        "for elem in y_train.numpy():\n",
        "    curr_y_train.append(elem[0])\n",
        "\n",
        "curr_y_train = np.array(curr_y_train)\n",
        "print(curr_y_train)\n",
        "print(np.unique(y_train.numpy()))\n"
      ]
    },
    {
      "cell_type": "code",
      "source": [
        "weights = compute_class_weight(\n",
        "    class_weight = \"balanced\",\n",
        "    classes = np.unique(y_train.numpy()),\n",
        "    y = curr_y_train\n",
        ")\n",
        "\n",
        "learning_rate = 1e-3\n",
        "dropout_p = 0.5\n",
        "l2_reg = 1e-4\n",
        "batch_size = 128\n",
        "max_epochs = 300\n",
        "\n",
        "early_stopping_patience = 4"
      ],
      "metadata": {
        "id": "_nX8NbsbgZhj"
      },
      "execution_count": 141,
      "outputs": []
    },
    {
      "cell_type": "code",
      "execution_count": 144,
      "metadata": {
        "scrolled": true,
        "id": "sZmgMkrg2DjI",
        "colab": {
          "base_uri": "https://localhost:8080/"
        },
        "outputId": "bcf54ca9-5553-45ed-ba16-779c72d897fd"
      },
      "outputs": [
        {
          "output_type": "stream",
          "name": "stdout",
          "text": [
            "Epoch 0 train loss: 0.5550, eval loss 0.5549843311309814\n",
            "Epoch 1 train loss: 0.5293, eval loss 0.5292576551437378\n",
            "Epoch 2 train loss: 0.5177, eval loss 0.51765376329422\n",
            "Epoch 3 train loss: 0.4959, eval loss 0.4959436357021332\n",
            "Epoch 4 train loss: 0.4913, eval loss 0.49132102727890015\n",
            "Epoch 5 train loss: 0.4699, eval loss 0.46987754106521606\n",
            "Epoch 6 train loss: 0.4514, eval loss 0.45137202739715576\n",
            "Epoch 7 train loss: 0.4193, eval loss 0.41931697726249695\n",
            "Epoch 8 train loss: 0.3994, eval loss 0.39943867921829224\n",
            "Epoch 9 train loss: 0.3777, eval loss 0.37768658995628357\n",
            "Epoch 10 train loss: 0.3598, eval loss 0.3597835600376129\n",
            "Epoch 11 train loss: 0.3328, eval loss 0.3328232169151306\n",
            "Epoch 12 train loss: 0.3186, eval loss 0.318584680557251\n",
            "Epoch 13 train loss: 0.3001, eval loss 0.3000729978084564\n",
            "Epoch 14 train loss: 0.2752, eval loss 0.27516305446624756\n",
            "Epoch 15 train loss: 0.2624, eval loss 0.2624208927154541\n",
            "Epoch 16 train loss: 0.2505, eval loss 0.2504720091819763\n",
            "Epoch 17 train loss: 0.2542, eval loss 0.25421014428138733\n",
            "Epoch 18 train loss: 0.2241, eval loss 0.22409199178218842\n",
            "Epoch 19 train loss: 0.2150, eval loss 0.21500101685523987\n",
            "Epoch 20 train loss: 0.1937, eval loss 0.19369974732398987\n",
            "Epoch 21 train loss: 0.1804, eval loss 0.18042640388011932\n",
            "Epoch 22 train loss: 0.1769, eval loss 0.17693224549293518\n",
            "Epoch 23 train loss: 0.1650, eval loss 0.16502755880355835\n",
            "Epoch 24 train loss: 0.1472, eval loss 0.1471855193376541\n",
            "Epoch 25 train loss: 0.1593, eval loss 0.1592998504638672\n",
            "Epoch 26 train loss: 0.1304, eval loss 0.13035030663013458\n",
            "Epoch 27 train loss: 0.1354, eval loss 0.13540445268154144\n"
          ]
        }
      ],
      "source": [
        "from torch.optim import AdamW\n",
        "\n",
        "model = NormalizingMLP(\n",
        "    input_size=X_train.shape[1], \n",
        "    dropout_p=dropout_p\n",
        ")\n",
        "optimizer = AdamW(model.parameters(), lr=learning_rate, weight_decay=l2_reg)\n",
        "loss_fn = torch.nn.BCEWithLogitsLoss(pos_weight=torch.from_numpy(weights)[1])\n",
        "\n",
        "train_dataset = MyDataset(X_train, y_train)\n",
        "train_dataloader = DataLoader(train_dataset, batch_size=batch_size)\n",
        "\n",
        "steps_without_improvement = 0\n",
        "\n",
        "best_val_loss = np.inf\n",
        "best_model = None\n",
        "best_threshold = None\n",
        "\n",
        "for epoch_num in range(max_epochs):\n",
        "    model.train()\n",
        "    \n",
        "    for X_batch, y_batch in train_dataloader:\n",
        "        y_pred = model(X_batch)\n",
        "\n",
        "        loss = loss_fn(y_pred, y_batch)\n",
        "        loss.backward()\n",
        "\n",
        "        optimizer.step()\n",
        "        optimizer.zero_grad()\n",
        "   \n",
        "\n",
        "    model.eval()\n",
        "    valid_metrics = evaluate_model(model, X_valid, y_valid, loss_fn)\n",
        "    if loss < best_val_loss:\n",
        "        best_val_loss = loss\n",
        "        best_model = model\n",
        "        best_threshold = valid_metrics[\"optimal_threshold\"]\n",
        "    else:\n",
        "        steps_without_improvement += 1\n",
        "        if steps_without_improvement == early_stopping_patience:\n",
        "            break\n",
        "    \n",
        "    print(f\"Epoch {epoch_num} train loss: {loss.item():.4f}, eval loss {valid_metrics['loss']}\")\n"
      ]
    },
    {
      "cell_type": "code",
      "execution_count": 145,
      "metadata": {
        "scrolled": true,
        "id": "4J9_6WOE2DjI",
        "colab": {
          "base_uri": "https://localhost:8080/"
        },
        "outputId": "219377b1-3f44-467e-cebb-277e17c58115"
      },
      "outputs": [
        {
          "output_type": "stream",
          "name": "stdout",
          "text": [
            "AUROC: 87.67%\n",
            "F1: 65.71%\n",
            "Precision: 58.01%\n",
            "Recall: 75.77%\n"
          ]
        }
      ],
      "source": [
        "test_metrics = evaluate_model(best_model, X_test, y_test, loss_fn, best_threshold)\n",
        "\n",
        "print(f\"AUROC: {100 * test_metrics['AUROC']:.2f}%\")\n",
        "print(f\"F1: {100 * test_metrics['F1-score']:.2f}%\")\n",
        "print(f\"Precision: {100 * test_metrics['precision']:.2f}%\")\n",
        "print(f\"Recall: {100 * test_metrics['recall']:.2f}%\")"
      ]
    },
    {
      "cell_type": "markdown",
      "metadata": {
        "id": "uegUECiU2DjI"
      },
      "source": [
        "## Pytania kontrolne (1 punkt)\n",
        "\n",
        "1. Wymień 4 najważniejsze twoim zdaniem hiperparametry sieci neuronowej.\n",
        "2. Czy widzisz jakiś problem w użyciu regularyzacji L1 w treningu sieci neuronowych? Czy dropout może twoim zdaniem stanowić alternatywę dla tego rodzaju regularyzacji?\n",
        "3. Czy użycie innej metryki do wczesnego stopu da taki sam model końcowy? Czemu?"
      ]
    },
    {
      "cell_type": "markdown",
      "metadata": {
        "id": "XyoRnHT4GFR9"
      },
      "source": [
        "## Akceleracja sprzętowa (dla zainteresowanych)"
      ]
    },
    {
      "cell_type": "markdown",
      "metadata": {
        "id": "RGR_P4pA2DjJ"
      },
      "source": [
        "Jak wcześniej wspominaliśmy, użycie akceleracji sprzętowej, czyli po prostu GPU do obliczeń, jest bardzo efektywne w przypadku sieci neuronowych. Karty graficzne bardzo efektywnie mnożą macierze, a sieci neuronowe to, jak można było się przekonać, dużo mnożenia macierzy.\n",
        "\n",
        "W PyTorchu jest to dosyć łatwe, ale trzeba robić to explicite. Służy do tego metoda `.to()`, która przenosi tensory między CPU i GPU. Poniżej przykład, jak to się robi (oczywiście trzeba mieć skonfigurowane GPU, żeby działało):"
      ]
    },
    {
      "cell_type": "code",
      "execution_count": null,
      "metadata": {
        "id": "O9NPeA1R2DjJ"
      },
      "outputs": [],
      "source": [
        "import time \n",
        "\n",
        "model = NormalizingMLP(\n",
        "    input_size=X_train.shape[1], \n",
        "    dropout_p=dropout_p\n",
        ").to('cuda')\n",
        "\n",
        "optimizer = torch.optim.AdamW(model.parameters(), lr=learning_rate, weight_decay=1e-4)\n",
        "\n",
        "# note that we are using loss function with sigmoid built in\n",
        "loss_fn = torch.nn.BCEWithLogitsLoss(pos_weight=torch.from_numpy(weights)[1].to('cuda'))\n",
        "\n",
        "step_counter = 0\n",
        "time_from_eval = time.time()\n",
        "for epoch_id in range(30):\n",
        "    for batch_x, batch_y in train_dataloader:\n",
        "        batch_x = batch_x.to('cuda')\n",
        "        batch_y = batch_y.to('cuda')\n",
        "        \n",
        "        loss = loss_fn(model(batch_x), batch_y)\n",
        "        loss.backward()\n",
        "\n",
        "        optimizer.step()\n",
        "        optimizer.zero_grad()\n",
        "        \n",
        "        if step_counter % evaluation_steps == 0:\n",
        "            print(f\"Epoch {epoch_id} train loss: {loss.item():.4f}, time: {time.time() - time_from_eval}\")\n",
        "            time_from_eval = time.time()\n",
        "\n",
        "        step_counter += 1\n",
        "\n",
        "test_res = evaluate_model(model.to('cpu'), X_test, y_test, loss_fn.to('cpu'), threshold=0.5)\n",
        "\n",
        "print(f\"AUROC: {100 * test_metrics['AUROC']:.2f}%\")\n",
        "print(f\"F1: {100 * test_metrics['F1-score']:.2f}%\")"
      ]
    },
    {
      "cell_type": "markdown",
      "metadata": {
        "id": "m0CC1AOM2DjJ"
      },
      "source": [
        "Wyniki mogą się różnić z modelem na CPU, zauważ o ile szybszy jest ten model w porównaniu z CPU (przynajmniej w przypadków scenariuszy tak będzie ;)).\n",
        "\n",
        "Dla zainteresowanych polecamy [tę serie artykułów](https://medium.com/@adi.fu7/ai-accelerators-part-i-intro-822c2cdb4ca4)"
      ]
    },
    {
      "cell_type": "markdown",
      "metadata": {
        "id": "f-SWcBl32DjJ"
      },
      "source": [
        "## Zadanie dla chętnych"
      ]
    },
    {
      "cell_type": "markdown",
      "metadata": {
        "id": "ZIkpvhZ52DjJ"
      },
      "source": [
        "Jak widzieliśmy, sieci neuronowe mają bardzo dużo hiperparametrów. Przeszukiwanie ich grid search'em jest więc niewykonalne, a chociaż random search by działał, to potrzebowałby wielu iteracji, co też jest kosztowne obliczeniowo.\n",
        "\n",
        "Zaimplementuj inteligentne przeszukiwanie przestrzeni hiperparametrów za pomocą biblioteki [Optuna](https://optuna.org/). Implementuje ona między innymi algorytm Tree Parzen Estimator (TPE), należący do grupy algorytmów typu Bayesian search. Typowo osiągają one bardzo dobre wyniki, a właściwie zawsze lepsze od przeszukiwania losowego. Do tego wystarcza im często niewielka liczba kroków.\n",
        "\n",
        "Zaimplementuj 3-warstwową sieć MLP, gdzie pierwsza warstwa ma rozmiar ukryty N, a druga N // 2. Ucz ją optymalizatorem Adam przez maksymalnie 300 epok z cierpliwością 10.\n",
        "\n",
        "Przeszukaj wybrane zakresy dla hiperparametrów:\n",
        "- rozmiar warstw ukrytych (N)\n",
        "- stała ucząca\n",
        "- batch size\n",
        "- siła regularyzacji L2\n",
        "- prawdopodobieństwo dropoutu\n",
        "\n",
        "Wykorzystaj przynajmniej 30 iteracji. Następnie przełącz algorytm na losowy (Optuna także jego implementuje), wykonaj 30 iteracji i porównaj jakość wyników.\n",
        "\n",
        "Przydatne materiały:\n",
        "- [Optuna code examples - PyTorch](https://optuna.org/#code_examples)\n",
        "- [Auto-Tuning Hyperparameters with Optuna and PyTorch](https://www.youtube.com/watch?v=P6NwZVl8ttc)\n",
        "- [Hyperparameter Tuning of Neural Networks with Optuna and PyTorch](https://towardsdatascience.com/hyperparameter-tuning-of-neural-networks-with-optuna-and-pytorch-22e179efc837)\n",
        "- [Using Optuna to Optimize PyTorch Hyperparameters](https://medium.com/pytorch/using-optuna-to-optimize-pytorch-hyperparameters-990607385e36)"
      ]
    },
    {
      "cell_type": "code",
      "execution_count": null,
      "metadata": {
        "id": "tDHPgxn32DjJ"
      },
      "outputs": [],
      "source": []
    }
  ],
  "metadata": {
    "colab": {
      "provenance": [],
      "toc_visible": true
    },
    "kernelspec": {
      "display_name": "Python 3 (ipykernel)",
      "language": "python",
      "name": "python3"
    },
    "language_info": {
      "codemirror_mode": {
        "name": "ipython",
        "version": 3
      },
      "file_extension": ".py",
      "mimetype": "text/x-python",
      "name": "python",
      "nbconvert_exporter": "python",
      "pygments_lexer": "ipython3",
      "version": "3.8.13"
    },
    "toc": {
      "base_numbering": 1,
      "nav_menu": {},
      "number_sections": false,
      "sideBar": false,
      "skip_h1_title": false,
      "title_cell": "Table of Contents",
      "title_sidebar": "Contents",
      "toc_cell": false,
      "toc_position": {},
      "toc_section_display": true,
      "toc_window_display": true
    },
    "vscode": {
      "interpreter": {
        "hash": "a5d7af91182035c53be6efb3f9b18ffc3e259c9c524705249407647c970de949"
      }
    }
  },
  "nbformat": 4,
  "nbformat_minor": 0
}